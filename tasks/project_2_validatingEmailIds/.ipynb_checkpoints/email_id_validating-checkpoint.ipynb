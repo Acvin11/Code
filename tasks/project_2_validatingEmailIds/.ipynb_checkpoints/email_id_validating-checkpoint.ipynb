{
 "cells": [
  {
   "cell_type": "code",
   "execution_count": 4,
   "metadata": {},
   "outputs": [
    {
     "name": "stdout",
     "output_type": "stream",
     "text": [
      "Step 1: ['a.com', 'a.com', 'b.com', 'd.com']\n",
      "Step 2: ['a.com', 'b.com', 'c.com']\n",
      "Step 3: {'a.com': 2, 'b.com': 1, 'c.com': 0}\n",
      "Step 4: {'www.a.com': 2, 'www.b.com': 1, 'www.c.com': 0}\n"
     ]
    }
   ],
   "source": [
    "def extractEmailDomains(emails):\n",
    "    \"\"\"\n",
    "    Step 1 : Extracts the domain from each email address.\n",
    "    \"\"\"\n",
    "    domains = []\n",
    "    for email in emails:\n",
    "        at_index = email.find('@')\n",
    "        if at_index != -1:\n",
    "            domain = email[at_index + 1:]\n",
    "            if domain.startswith('www.'):\n",
    "                domain = domain[4:]\n",
    "            domains.append(domain)\n",
    "    return domains\n",
    "\n",
    "def extractUrlDomains(urls):\n",
    "    \"\"\"\n",
    "    Step 2 : Extracts the domain from each URL.\n",
    "    \"\"\"\n",
    "    domains = []\n",
    "    for url in urls:\n",
    "        \"\"\" Remove 'www' if present \"\"\"\n",
    "        url = url.replace('www', '')\n",
    "        \"\"\" Find the index of the first dot after removing 'www' \"\"\"\n",
    "        dot_index = url.find('.')\n",
    "        if dot_index != -1:\n",
    "            domain = url[dot_index + 1:]\n",
    "            domains.append(domain)\n",
    "    return domains\n",
    "\n",
    "\n",
    "def countUrlOccurrences(emailDomains, urlDomains):\n",
    "    \"\"\"\n",
    "    Step 3 : Counts the occurrences of each domain in the list of URLs.\n",
    "    \"\"\"\n",
    "    counts = {url: 0 for url in urlDomains}\n",
    "    for domain in emailDomains:\n",
    "        if domain in counts:\n",
    "            counts[domain] += 1\n",
    "    return counts\n",
    "\n",
    "def addWwwPrefix(counts):\n",
    "    \"\"\"\n",
    "    Step 4 : Adds 'www.' prefix to each domain in the counts dictionary.\n",
    "    \"\"\"\n",
    "    www_counts = {}\n",
    "    for domain, count in counts.items():\n",
    "        www_domain = 'www.' + domain\n",
    "        www_counts[www_domain] = count\n",
    "    return www_counts\n",
    "   \n",
    "\n",
    "# Test Cases\n",
    "emails = ['foo@a.com', 'bar@a.com', 'baz@b.com', 'qux@d.com']\n",
    "urls = ['www.a.com', 'www.b.com', 'www.c.com']\n",
    "\n",
    "# Test Step 1\n",
    "emailDomains = extractEmailDomains(emails)\n",
    "print(\"Step 1:\", emailDomains)\n",
    "\n",
    "# Test Step 2\n",
    "urlDomains = extractUrlDomains(urls)\n",
    "print(\"Step 2:\", urlDomains)\n",
    "\n",
    "# Test Step 3\n",
    "counts = countUrlOccurrences(emailDomains, urlDomains)\n",
    "print(\"Step 3:\", counts)\n",
    "\n",
    "# Test Step 4\n",
    "wwwCounts = addWwwPrefix(counts)\n",
    "print(\"Step 4:\", wwwCounts)\n"
   ]
  }
 ],
 "metadata": {
  "kernelspec": {
   "display_name": "Python 3 (ipykernel)",
   "language": "python",
   "name": "python3"
  },
  "language_info": {
   "codemirror_mode": {
    "name": "ipython",
    "version": 3
   },
   "file_extension": ".py",
   "mimetype": "text/x-python",
   "name": "python",
   "nbconvert_exporter": "python",
   "pygments_lexer": "ipython3",
   "version": "3.12.1"
  }
 },
 "nbformat": 4,
 "nbformat_minor": 4
}
