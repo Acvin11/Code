def extractEmailDomains(emails):
    """
    Step 1 : Extracts the domain from each email address.
    """
    domains = []
    for email in emails:
        at_index = email.find('@')
        if at_index != -1:
            domain = email[at_index + 1:]
            if domain.startswith('www.'):
                domain = domain[4:]
            domains.append(domain)
    return domains

def extractUrlDomains(urls):
    """
    Step 2 : Extracts the domain from each URL.
    """
    domains = []
    for url in urls:
        """ Remove 'www' if present """
        url = url.replace('www', '')
        """ Find the index of the first dot after removing 'www' """
        dot_index = url.find('.')
        if dot_index != -1:
            domain = url[dot_index + 1:]
            domains.append(domain)
    return domains


def countUrlOccurrences(emailDomains, urlDomains):
    """
    Step 3 : Counts the occurrences of each domain in the list of URLs.
    """
    counts = {url: 0 for url in urlDomains}
    for domain in emailDomains:
        if domain in counts:
            counts[domain] += 1
    return counts

def addWwwPrefix(counts):
    """
    Step 4 : Adds 'www.' prefix to each domain in the counts dictionary.
    """
    www_counts = {}
    for domain, count in counts.items():
        www_domain = 'www.' + domain
        www_counts[www_domain] = count
    return www_counts
   

# Test Cases
emails = ['foo@a.com', 'bar@a.com', 'baz@b.com', 'qux@d.com']
urls = ['www.a.com', 'www.b.com', 'www.c.com']

# Test Step 1
emailDomains = extractEmailDomains(emails)
print("Step 1:", emailDomains)

# Test Step 2
urlDomains = extractUrlDomains(urls)
print("Step 2:", urlDomains)

# Test Step 3
counts = countUrlOccurrences(emailDomains, urlDomains)
print("Step 3:", counts)

# Test Step 4
wwwCounts = addWwwPrefix(counts)
print("Step 4:", wwwCounts)
