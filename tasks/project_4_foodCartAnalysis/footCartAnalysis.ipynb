{
 "cells": [
  {
   "cell_type": "code",
   "execution_count": 56,
   "id": "48dadf7b-aefa-4271-a47e-045c40088089",
   "metadata": {},
   "outputs": [
    {
     "name": "stdout",
     "output_type": "stream",
     "text": [
      "Original DataFrame:\n",
      "       0  1  2    3    4      5  6                            7  \\\n",
      "0    2.4  2  1  430  NaN  315.0  1                         none   \n",
      "1  3.654  1  1  610  3.0  420.0  2  chocolate, chips, ice cream   \n",
      "\n",
      "                       8  \n",
      "0  we dont have comfort   \n",
      "1   Stress, bored, anger  \n",
      "\n",
      "DataFrame with New Headers:\n",
      "Empty DataFrame\n",
      "Columns: [GPA, Gender, breakfast, calories_chicken, calories_day, calories_scone, coffee, comfort_food, comfort_food_reasons]\n",
      "Index: []\n",
      "\n",
      "Original DataFrame with Updated Headers:\n",
      "       GPA  Gender  breakfast  calories_chicken  calories_day  calories_scone  \\\n",
      "0      2.4       2          1               430           NaN           315.0   \n",
      "1    3.654       1          1               610           3.0           420.0   \n",
      "2      3.3       1          1               720           4.0           420.0   \n",
      "3      3.2       1          1               430           3.0           420.0   \n",
      "4      3.5       1          1               720           2.0           420.0   \n",
      "..     ...     ...        ...               ...           ...             ...   \n",
      "120    3.5       1          1               610           4.0           420.0   \n",
      "121      3       1          1               265           2.0           315.0   \n",
      "122  3.882       1          1               720           NaN           420.0   \n",
      "123      3       2          1               720           4.0           420.0   \n",
      "124    3.9       1          1               430           NaN           315.0   \n",
      "\n",
      "     coffee                             comfort_food  \\\n",
      "0         1                                     none   \n",
      "1         2              chocolate, chips, ice cream   \n",
      "2         2          frozen yogurt, pizza, fast food   \n",
      "3         2         Pizza, Mac and cheese, ice cream   \n",
      "4         2             Ice cream, chocolate, chips    \n",
      "..      ...                                      ...   \n",
      "120       2  wine. mac and cheese, pizza, ice cream    \n",
      "121       2               Pizza / Wings / Cheesecake   \n",
      "122       1               rice, potato, seaweed soup   \n",
      "123       1             Mac n Cheese, Lasagna, Pizza   \n",
      "124       2             Chocolates, pizza, and Ritz.   \n",
      "\n",
      "                              comfort_food_reasons  \n",
      "0                            we dont have comfort   \n",
      "1                             Stress, bored, anger  \n",
      "2                                  stress, sadness  \n",
      "3                                          Boredom  \n",
      "4                       Stress, boredom, cravings   \n",
      "..                                             ...  \n",
      "120                           boredom and sadness   \n",
      "121                Loneliness / Homesick / Sadness  \n",
      "122                                        sadness  \n",
      "123  happiness, they are some of my favorite foods  \n",
      "124               hormones, Premenstrual syndrome.  \n",
      "\n",
      "[125 rows x 9 columns]\n",
      "\n",
      "DataFrame with updated headers has been written to 'D:\\softwares\\jupyter_notebook\\archive\\output_file.csv'\n"
     ]
    }
   ],
   "source": [
    "import pandas as pd\n",
    "\n",
    "# Replace 'your_excel_file.csv' with the actual path to your CSV file\n",
    "csv_file_path_input = 'D:\\\\softwares\\\\jupyter_notebook\\\\archive\\\\food_coded2.csv'\n",
    "csv_file_path_output = 'D:\\\\softwares\\\\jupyter_notebook\\\\archive\\\\output_file.csv'\n",
    "\n",
    "# Read the CSV file into a DataFrame\n",
    "df_original = pd.read_csv(csv_file_path_input)\n",
    "\n",
    "# Display the first 2 rows of the original DataFrame\n",
    "print(\"Original DataFrame:\")\n",
    "print(df_original.head(2))\n",
    "\n",
    "# Define the new headers\n",
    "new_headers = [\"GPA\", \"Gender\", \"breakfast\", \"calories_chicken\", \"calories_day\", \"calories_scone\", \"coffee\", \"comfort_food\", \"comfort_food_reasons\"]\n",
    "\n",
    "# Create a new DataFrame with the specified headers\n",
    "df_updated = pd.DataFrame(columns=new_headers)\n",
    "\n",
    "# Display the first 10 rows of the new DataFrame\n",
    "print(\"\\nDataFrame with New Headers:\")\n",
    "print(df_updated.head(10))\n",
    "\n",
    "# Get the current headers of the original DataFrame\n",
    "current_headers = df_original.columns.tolist()\n",
    "\n",
    "# Check if the number of new headers matches the number of current headers\n",
    "if len(current_headers) == len(new_headers):\n",
    "    # Create a dictionary to map current headers to new headers\n",
    "    header_mapping = dict(zip(current_headers, new_headers))\n",
    "\n",
    "    # Rename the columns in the original DataFrame\n",
    "    df_original.rename(columns=header_mapping, inplace=True)\n",
    "  \n",
    "    # Display the original DataFrame with the updated headers\n",
    "    print(\"\\nOriginal DataFrame with Updated Headers:\")\n",
    "    print(df_original)\n",
    "    \n",
    "    # Write the original DataFrame with updated headers to a new CSV file\n",
    "    df_original.to_csv(csv_file_path_output, index=False)\n",
    "    print(f\"\\nDataFrame with updated headers has been written to '{csv_file_path_output}'\")\n",
    "\n",
    "else:\n",
    "    print(\"Number of new headers doesn't match the number of current headers.\")\n"
   ]
  },
  {
   "cell_type": "code",
   "execution_count": 68,
   "id": "fa651552-dbcc-454d-a68d-36f2dcbc1e61",
   "metadata": {},
   "outputs": [
    {
     "data": {
      "text/html": [
       "<div>\n",
       "<style scoped>\n",
       "    .dataframe tbody tr th:only-of-type {\n",
       "        vertical-align: middle;\n",
       "    }\n",
       "\n",
       "    .dataframe tbody tr th {\n",
       "        vertical-align: top;\n",
       "    }\n",
       "\n",
       "    .dataframe thead th {\n",
       "        text-align: right;\n",
       "    }\n",
       "</style>\n",
       "<table border=\"1\" class=\"dataframe\">\n",
       "  <thead>\n",
       "    <tr style=\"text-align: right;\">\n",
       "      <th></th>\n",
       "      <th>is_canceled</th>\n",
       "      <th>lead_time</th>\n",
       "      <th>arrival_date_year</th>\n",
       "      <th>arrival_date_week_number</th>\n",
       "      <th>arrival_date_day_of_month</th>\n",
       "      <th>stays_in_weekend_nights</th>\n",
       "      <th>stays_in_week_nights</th>\n",
       "      <th>adults</th>\n",
       "      <th>children</th>\n",
       "      <th>babies</th>\n",
       "      <th>is_repeated_guest</th>\n",
       "      <th>previous_cancellations</th>\n",
       "      <th>previous_bookings_not_canceled</th>\n",
       "      <th>booking_changes</th>\n",
       "      <th>agent</th>\n",
       "      <th>company</th>\n",
       "      <th>days_in_waiting_list</th>\n",
       "      <th>adr</th>\n",
       "      <th>required_car_parking_spaces</th>\n",
       "      <th>total_of_special_requests</th>\n",
       "    </tr>\n",
       "  </thead>\n",
       "  <tbody>\n",
       "    <tr>\n",
       "      <th>count</th>\n",
       "      <td>119390.000000</td>\n",
       "      <td>119390.000000</td>\n",
       "      <td>119390.000000</td>\n",
       "      <td>119390.000000</td>\n",
       "      <td>119390.000000</td>\n",
       "      <td>119390.000000</td>\n",
       "      <td>119390.000000</td>\n",
       "      <td>119390.000000</td>\n",
       "      <td>119386.000000</td>\n",
       "      <td>119390.000000</td>\n",
       "      <td>119390.000000</td>\n",
       "      <td>119390.000000</td>\n",
       "      <td>119390.000000</td>\n",
       "      <td>119390.000000</td>\n",
       "      <td>103050.000000</td>\n",
       "      <td>6797.000000</td>\n",
       "      <td>119390.000000</td>\n",
       "      <td>119390.000000</td>\n",
       "      <td>119390.000000</td>\n",
       "      <td>119390.000000</td>\n",
       "    </tr>\n",
       "    <tr>\n",
       "      <th>mean</th>\n",
       "      <td>0.370416</td>\n",
       "      <td>104.011416</td>\n",
       "      <td>2016.156554</td>\n",
       "      <td>27.165173</td>\n",
       "      <td>15.798241</td>\n",
       "      <td>0.927599</td>\n",
       "      <td>2.500302</td>\n",
       "      <td>1.856403</td>\n",
       "      <td>0.103890</td>\n",
       "      <td>0.007949</td>\n",
       "      <td>0.031912</td>\n",
       "      <td>0.087118</td>\n",
       "      <td>0.137097</td>\n",
       "      <td>0.221124</td>\n",
       "      <td>86.693382</td>\n",
       "      <td>189.266735</td>\n",
       "      <td>2.321149</td>\n",
       "      <td>101.831122</td>\n",
       "      <td>0.062518</td>\n",
       "      <td>0.571363</td>\n",
       "    </tr>\n",
       "    <tr>\n",
       "      <th>std</th>\n",
       "      <td>0.482918</td>\n",
       "      <td>106.863097</td>\n",
       "      <td>0.707476</td>\n",
       "      <td>13.605138</td>\n",
       "      <td>8.780829</td>\n",
       "      <td>0.998613</td>\n",
       "      <td>1.908286</td>\n",
       "      <td>0.579261</td>\n",
       "      <td>0.398561</td>\n",
       "      <td>0.097436</td>\n",
       "      <td>0.175767</td>\n",
       "      <td>0.844336</td>\n",
       "      <td>1.497437</td>\n",
       "      <td>0.652306</td>\n",
       "      <td>110.774548</td>\n",
       "      <td>131.655015</td>\n",
       "      <td>17.594721</td>\n",
       "      <td>50.535790</td>\n",
       "      <td>0.245291</td>\n",
       "      <td>0.792798</td>\n",
       "    </tr>\n",
       "    <tr>\n",
       "      <th>min</th>\n",
       "      <td>0.000000</td>\n",
       "      <td>0.000000</td>\n",
       "      <td>2015.000000</td>\n",
       "      <td>1.000000</td>\n",
       "      <td>1.000000</td>\n",
       "      <td>0.000000</td>\n",
       "      <td>0.000000</td>\n",
       "      <td>0.000000</td>\n",
       "      <td>0.000000</td>\n",
       "      <td>0.000000</td>\n",
       "      <td>0.000000</td>\n",
       "      <td>0.000000</td>\n",
       "      <td>0.000000</td>\n",
       "      <td>0.000000</td>\n",
       "      <td>1.000000</td>\n",
       "      <td>6.000000</td>\n",
       "      <td>0.000000</td>\n",
       "      <td>-6.380000</td>\n",
       "      <td>0.000000</td>\n",
       "      <td>0.000000</td>\n",
       "    </tr>\n",
       "    <tr>\n",
       "      <th>25%</th>\n",
       "      <td>0.000000</td>\n",
       "      <td>18.000000</td>\n",
       "      <td>2016.000000</td>\n",
       "      <td>16.000000</td>\n",
       "      <td>8.000000</td>\n",
       "      <td>0.000000</td>\n",
       "      <td>1.000000</td>\n",
       "      <td>2.000000</td>\n",
       "      <td>0.000000</td>\n",
       "      <td>0.000000</td>\n",
       "      <td>0.000000</td>\n",
       "      <td>0.000000</td>\n",
       "      <td>0.000000</td>\n",
       "      <td>0.000000</td>\n",
       "      <td>9.000000</td>\n",
       "      <td>62.000000</td>\n",
       "      <td>0.000000</td>\n",
       "      <td>69.290000</td>\n",
       "      <td>0.000000</td>\n",
       "      <td>0.000000</td>\n",
       "    </tr>\n",
       "    <tr>\n",
       "      <th>50%</th>\n",
       "      <td>0.000000</td>\n",
       "      <td>69.000000</td>\n",
       "      <td>2016.000000</td>\n",
       "      <td>28.000000</td>\n",
       "      <td>16.000000</td>\n",
       "      <td>1.000000</td>\n",
       "      <td>2.000000</td>\n",
       "      <td>2.000000</td>\n",
       "      <td>0.000000</td>\n",
       "      <td>0.000000</td>\n",
       "      <td>0.000000</td>\n",
       "      <td>0.000000</td>\n",
       "      <td>0.000000</td>\n",
       "      <td>0.000000</td>\n",
       "      <td>14.000000</td>\n",
       "      <td>179.000000</td>\n",
       "      <td>0.000000</td>\n",
       "      <td>94.575000</td>\n",
       "      <td>0.000000</td>\n",
       "      <td>0.000000</td>\n",
       "    </tr>\n",
       "    <tr>\n",
       "      <th>75%</th>\n",
       "      <td>1.000000</td>\n",
       "      <td>160.000000</td>\n",
       "      <td>2017.000000</td>\n",
       "      <td>38.000000</td>\n",
       "      <td>23.000000</td>\n",
       "      <td>2.000000</td>\n",
       "      <td>3.000000</td>\n",
       "      <td>2.000000</td>\n",
       "      <td>0.000000</td>\n",
       "      <td>0.000000</td>\n",
       "      <td>0.000000</td>\n",
       "      <td>0.000000</td>\n",
       "      <td>0.000000</td>\n",
       "      <td>0.000000</td>\n",
       "      <td>229.000000</td>\n",
       "      <td>270.000000</td>\n",
       "      <td>0.000000</td>\n",
       "      <td>126.000000</td>\n",
       "      <td>0.000000</td>\n",
       "      <td>1.000000</td>\n",
       "    </tr>\n",
       "    <tr>\n",
       "      <th>max</th>\n",
       "      <td>1.000000</td>\n",
       "      <td>737.000000</td>\n",
       "      <td>2017.000000</td>\n",
       "      <td>53.000000</td>\n",
       "      <td>31.000000</td>\n",
       "      <td>19.000000</td>\n",
       "      <td>50.000000</td>\n",
       "      <td>55.000000</td>\n",
       "      <td>10.000000</td>\n",
       "      <td>10.000000</td>\n",
       "      <td>1.000000</td>\n",
       "      <td>26.000000</td>\n",
       "      <td>72.000000</td>\n",
       "      <td>21.000000</td>\n",
       "      <td>535.000000</td>\n",
       "      <td>543.000000</td>\n",
       "      <td>391.000000</td>\n",
       "      <td>5400.000000</td>\n",
       "      <td>8.000000</td>\n",
       "      <td>5.000000</td>\n",
       "    </tr>\n",
       "  </tbody>\n",
       "</table>\n",
       "</div>"
      ],
      "text/plain": [
       "         is_canceled      lead_time  arrival_date_year  \\\n",
       "count  119390.000000  119390.000000      119390.000000   \n",
       "mean        0.370416     104.011416        2016.156554   \n",
       "std         0.482918     106.863097           0.707476   \n",
       "min         0.000000       0.000000        2015.000000   \n",
       "25%         0.000000      18.000000        2016.000000   \n",
       "50%         0.000000      69.000000        2016.000000   \n",
       "75%         1.000000     160.000000        2017.000000   \n",
       "max         1.000000     737.000000        2017.000000   \n",
       "\n",
       "       arrival_date_week_number  arrival_date_day_of_month  \\\n",
       "count             119390.000000              119390.000000   \n",
       "mean                  27.165173                  15.798241   \n",
       "std                   13.605138                   8.780829   \n",
       "min                    1.000000                   1.000000   \n",
       "25%                   16.000000                   8.000000   \n",
       "50%                   28.000000                  16.000000   \n",
       "75%                   38.000000                  23.000000   \n",
       "max                   53.000000                  31.000000   \n",
       "\n",
       "       stays_in_weekend_nights  stays_in_week_nights         adults  \\\n",
       "count            119390.000000         119390.000000  119390.000000   \n",
       "mean                  0.927599              2.500302       1.856403   \n",
       "std                   0.998613              1.908286       0.579261   \n",
       "min                   0.000000              0.000000       0.000000   \n",
       "25%                   0.000000              1.000000       2.000000   \n",
       "50%                   1.000000              2.000000       2.000000   \n",
       "75%                   2.000000              3.000000       2.000000   \n",
       "max                  19.000000             50.000000      55.000000   \n",
       "\n",
       "            children         babies  is_repeated_guest  \\\n",
       "count  119386.000000  119390.000000      119390.000000   \n",
       "mean        0.103890       0.007949           0.031912   \n",
       "std         0.398561       0.097436           0.175767   \n",
       "min         0.000000       0.000000           0.000000   \n",
       "25%         0.000000       0.000000           0.000000   \n",
       "50%         0.000000       0.000000           0.000000   \n",
       "75%         0.000000       0.000000           0.000000   \n",
       "max        10.000000      10.000000           1.000000   \n",
       "\n",
       "       previous_cancellations  previous_bookings_not_canceled  \\\n",
       "count           119390.000000                   119390.000000   \n",
       "mean                 0.087118                        0.137097   \n",
       "std                  0.844336                        1.497437   \n",
       "min                  0.000000                        0.000000   \n",
       "25%                  0.000000                        0.000000   \n",
       "50%                  0.000000                        0.000000   \n",
       "75%                  0.000000                        0.000000   \n",
       "max                 26.000000                       72.000000   \n",
       "\n",
       "       booking_changes          agent      company  days_in_waiting_list  \\\n",
       "count    119390.000000  103050.000000  6797.000000         119390.000000   \n",
       "mean          0.221124      86.693382   189.266735              2.321149   \n",
       "std           0.652306     110.774548   131.655015             17.594721   \n",
       "min           0.000000       1.000000     6.000000              0.000000   \n",
       "25%           0.000000       9.000000    62.000000              0.000000   \n",
       "50%           0.000000      14.000000   179.000000              0.000000   \n",
       "75%           0.000000     229.000000   270.000000              0.000000   \n",
       "max          21.000000     535.000000   543.000000            391.000000   \n",
       "\n",
       "                 adr  required_car_parking_spaces  total_of_special_requests  \n",
       "count  119390.000000                119390.000000              119390.000000  \n",
       "mean      101.831122                     0.062518                   0.571363  \n",
       "std        50.535790                     0.245291                   0.792798  \n",
       "min        -6.380000                     0.000000                   0.000000  \n",
       "25%        69.290000                     0.000000                   0.000000  \n",
       "50%        94.575000                     0.000000                   0.000000  \n",
       "75%       126.000000                     0.000000                   1.000000  \n",
       "max      5400.000000                     8.000000                   5.000000  "
      ]
     },
     "execution_count": 68,
     "metadata": {},
     "output_type": "execute_result"
    }
   ],
   "source": [
    "import pandas as pd\n",
    "\n",
    "# Replace 'your_excel_file.csv' with the actual path to your CSV file\n",
    "#csv_file_path = 'D:\\\\softwares\\\\jupyter_notebook\\\\archive\\\\food_coded.csv'\n",
    "csv_file_path = 'D:\\\\softwares\\\\jupyter_notebook\\\\archive\\\\hotel_bookings 2.csv'\n",
    "\n",
    "# Read the CSV file into a DataFrame\n",
    "df = pd.read_csv(csv_file_path)\n",
    "\n",
    "#df.head(2)\n",
    "df.describe()\n",
    "#df.dtypes\n"
   ]
  },
  {
   "cell_type": "code",
   "execution_count": null,
   "id": "98b397d6-13e6-44fa-af76-e1c87459362f",
   "metadata": {},
   "outputs": [],
   "source": []
  },
  {
   "cell_type": "code",
   "execution_count": 77,
   "id": "82b3c240-38ef-4a4e-9cf7-e570c30e4efb",
   "metadata": {},
   "outputs": [
    {
     "data": {
      "text/html": [
       "<div>\n",
       "<style scoped>\n",
       "    .dataframe tbody tr th:only-of-type {\n",
       "        vertical-align: middle;\n",
       "    }\n",
       "\n",
       "    .dataframe tbody tr th {\n",
       "        vertical-align: top;\n",
       "    }\n",
       "\n",
       "    .dataframe thead th {\n",
       "        text-align: right;\n",
       "    }\n",
       "</style>\n",
       "<table border=\"1\" class=\"dataframe\">\n",
       "  <thead>\n",
       "    <tr style=\"text-align: right;\">\n",
       "      <th></th>\n",
       "      <th>hotel</th>\n",
       "      <th>is_canceled</th>\n",
       "      <th>lead_time</th>\n",
       "      <th>arrival_date_year</th>\n",
       "      <th>arrival_date_month</th>\n",
       "      <th>arrival_date_week_number</th>\n",
       "      <th>arrival_date_day_of_month</th>\n",
       "      <th>stays_in_weekend_nights</th>\n",
       "      <th>stays_in_week_nights</th>\n",
       "      <th>adults</th>\n",
       "      <th>...</th>\n",
       "      <th>deposit_type</th>\n",
       "      <th>agent</th>\n",
       "      <th>company</th>\n",
       "      <th>days_in_waiting_list</th>\n",
       "      <th>customer_type</th>\n",
       "      <th>adr</th>\n",
       "      <th>required_car_parking_spaces</th>\n",
       "      <th>total_of_special_requests</th>\n",
       "      <th>reservation_status</th>\n",
       "      <th>reservation_status_date</th>\n",
       "    </tr>\n",
       "  </thead>\n",
       "  <tbody>\n",
       "    <tr>\n",
       "      <th>count</th>\n",
       "      <td>119390</td>\n",
       "      <td>119390.000000</td>\n",
       "      <td>119390.000000</td>\n",
       "      <td>119390.000000</td>\n",
       "      <td>119390</td>\n",
       "      <td>119390.000000</td>\n",
       "      <td>119390.000000</td>\n",
       "      <td>119390.000000</td>\n",
       "      <td>119390.000000</td>\n",
       "      <td>119390.000000</td>\n",
       "      <td>...</td>\n",
       "      <td>119390</td>\n",
       "      <td>103050.000000</td>\n",
       "      <td>6797.000000</td>\n",
       "      <td>119390.000000</td>\n",
       "      <td>119390</td>\n",
       "      <td>119390.000000</td>\n",
       "      <td>119390.000000</td>\n",
       "      <td>119390.000000</td>\n",
       "      <td>119390</td>\n",
       "      <td>119390</td>\n",
       "    </tr>\n",
       "    <tr>\n",
       "      <th>unique</th>\n",
       "      <td>2</td>\n",
       "      <td>NaN</td>\n",
       "      <td>NaN</td>\n",
       "      <td>NaN</td>\n",
       "      <td>12</td>\n",
       "      <td>NaN</td>\n",
       "      <td>NaN</td>\n",
       "      <td>NaN</td>\n",
       "      <td>NaN</td>\n",
       "      <td>NaN</td>\n",
       "      <td>...</td>\n",
       "      <td>3</td>\n",
       "      <td>NaN</td>\n",
       "      <td>NaN</td>\n",
       "      <td>NaN</td>\n",
       "      <td>4</td>\n",
       "      <td>NaN</td>\n",
       "      <td>NaN</td>\n",
       "      <td>NaN</td>\n",
       "      <td>3</td>\n",
       "      <td>926</td>\n",
       "    </tr>\n",
       "    <tr>\n",
       "      <th>top</th>\n",
       "      <td>City Hotel</td>\n",
       "      <td>NaN</td>\n",
       "      <td>NaN</td>\n",
       "      <td>NaN</td>\n",
       "      <td>August</td>\n",
       "      <td>NaN</td>\n",
       "      <td>NaN</td>\n",
       "      <td>NaN</td>\n",
       "      <td>NaN</td>\n",
       "      <td>NaN</td>\n",
       "      <td>...</td>\n",
       "      <td>No Deposit</td>\n",
       "      <td>NaN</td>\n",
       "      <td>NaN</td>\n",
       "      <td>NaN</td>\n",
       "      <td>Transient</td>\n",
       "      <td>NaN</td>\n",
       "      <td>NaN</td>\n",
       "      <td>NaN</td>\n",
       "      <td>Check-Out</td>\n",
       "      <td>21/10/2015</td>\n",
       "    </tr>\n",
       "    <tr>\n",
       "      <th>freq</th>\n",
       "      <td>79330</td>\n",
       "      <td>NaN</td>\n",
       "      <td>NaN</td>\n",
       "      <td>NaN</td>\n",
       "      <td>13877</td>\n",
       "      <td>NaN</td>\n",
       "      <td>NaN</td>\n",
       "      <td>NaN</td>\n",
       "      <td>NaN</td>\n",
       "      <td>NaN</td>\n",
       "      <td>...</td>\n",
       "      <td>104641</td>\n",
       "      <td>NaN</td>\n",
       "      <td>NaN</td>\n",
       "      <td>NaN</td>\n",
       "      <td>89613</td>\n",
       "      <td>NaN</td>\n",
       "      <td>NaN</td>\n",
       "      <td>NaN</td>\n",
       "      <td>75166</td>\n",
       "      <td>1461</td>\n",
       "    </tr>\n",
       "    <tr>\n",
       "      <th>mean</th>\n",
       "      <td>NaN</td>\n",
       "      <td>0.370416</td>\n",
       "      <td>104.011416</td>\n",
       "      <td>2016.156554</td>\n",
       "      <td>NaN</td>\n",
       "      <td>27.165173</td>\n",
       "      <td>15.798241</td>\n",
       "      <td>0.927599</td>\n",
       "      <td>2.500302</td>\n",
       "      <td>1.856403</td>\n",
       "      <td>...</td>\n",
       "      <td>NaN</td>\n",
       "      <td>86.693382</td>\n",
       "      <td>189.266735</td>\n",
       "      <td>2.321149</td>\n",
       "      <td>NaN</td>\n",
       "      <td>101.831122</td>\n",
       "      <td>0.062518</td>\n",
       "      <td>0.571363</td>\n",
       "      <td>NaN</td>\n",
       "      <td>NaN</td>\n",
       "    </tr>\n",
       "    <tr>\n",
       "      <th>std</th>\n",
       "      <td>NaN</td>\n",
       "      <td>0.482918</td>\n",
       "      <td>106.863097</td>\n",
       "      <td>0.707476</td>\n",
       "      <td>NaN</td>\n",
       "      <td>13.605138</td>\n",
       "      <td>8.780829</td>\n",
       "      <td>0.998613</td>\n",
       "      <td>1.908286</td>\n",
       "      <td>0.579261</td>\n",
       "      <td>...</td>\n",
       "      <td>NaN</td>\n",
       "      <td>110.774548</td>\n",
       "      <td>131.655015</td>\n",
       "      <td>17.594721</td>\n",
       "      <td>NaN</td>\n",
       "      <td>50.535790</td>\n",
       "      <td>0.245291</td>\n",
       "      <td>0.792798</td>\n",
       "      <td>NaN</td>\n",
       "      <td>NaN</td>\n",
       "    </tr>\n",
       "    <tr>\n",
       "      <th>min</th>\n",
       "      <td>NaN</td>\n",
       "      <td>0.000000</td>\n",
       "      <td>0.000000</td>\n",
       "      <td>2015.000000</td>\n",
       "      <td>NaN</td>\n",
       "      <td>1.000000</td>\n",
       "      <td>1.000000</td>\n",
       "      <td>0.000000</td>\n",
       "      <td>0.000000</td>\n",
       "      <td>0.000000</td>\n",
       "      <td>...</td>\n",
       "      <td>NaN</td>\n",
       "      <td>1.000000</td>\n",
       "      <td>6.000000</td>\n",
       "      <td>0.000000</td>\n",
       "      <td>NaN</td>\n",
       "      <td>-6.380000</td>\n",
       "      <td>0.000000</td>\n",
       "      <td>0.000000</td>\n",
       "      <td>NaN</td>\n",
       "      <td>NaN</td>\n",
       "    </tr>\n",
       "    <tr>\n",
       "      <th>25%</th>\n",
       "      <td>NaN</td>\n",
       "      <td>0.000000</td>\n",
       "      <td>18.000000</td>\n",
       "      <td>2016.000000</td>\n",
       "      <td>NaN</td>\n",
       "      <td>16.000000</td>\n",
       "      <td>8.000000</td>\n",
       "      <td>0.000000</td>\n",
       "      <td>1.000000</td>\n",
       "      <td>2.000000</td>\n",
       "      <td>...</td>\n",
       "      <td>NaN</td>\n",
       "      <td>9.000000</td>\n",
       "      <td>62.000000</td>\n",
       "      <td>0.000000</td>\n",
       "      <td>NaN</td>\n",
       "      <td>69.290000</td>\n",
       "      <td>0.000000</td>\n",
       "      <td>0.000000</td>\n",
       "      <td>NaN</td>\n",
       "      <td>NaN</td>\n",
       "    </tr>\n",
       "    <tr>\n",
       "      <th>50%</th>\n",
       "      <td>NaN</td>\n",
       "      <td>0.000000</td>\n",
       "      <td>69.000000</td>\n",
       "      <td>2016.000000</td>\n",
       "      <td>NaN</td>\n",
       "      <td>28.000000</td>\n",
       "      <td>16.000000</td>\n",
       "      <td>1.000000</td>\n",
       "      <td>2.000000</td>\n",
       "      <td>2.000000</td>\n",
       "      <td>...</td>\n",
       "      <td>NaN</td>\n",
       "      <td>14.000000</td>\n",
       "      <td>179.000000</td>\n",
       "      <td>0.000000</td>\n",
       "      <td>NaN</td>\n",
       "      <td>94.575000</td>\n",
       "      <td>0.000000</td>\n",
       "      <td>0.000000</td>\n",
       "      <td>NaN</td>\n",
       "      <td>NaN</td>\n",
       "    </tr>\n",
       "    <tr>\n",
       "      <th>75%</th>\n",
       "      <td>NaN</td>\n",
       "      <td>1.000000</td>\n",
       "      <td>160.000000</td>\n",
       "      <td>2017.000000</td>\n",
       "      <td>NaN</td>\n",
       "      <td>38.000000</td>\n",
       "      <td>23.000000</td>\n",
       "      <td>2.000000</td>\n",
       "      <td>3.000000</td>\n",
       "      <td>2.000000</td>\n",
       "      <td>...</td>\n",
       "      <td>NaN</td>\n",
       "      <td>229.000000</td>\n",
       "      <td>270.000000</td>\n",
       "      <td>0.000000</td>\n",
       "      <td>NaN</td>\n",
       "      <td>126.000000</td>\n",
       "      <td>0.000000</td>\n",
       "      <td>1.000000</td>\n",
       "      <td>NaN</td>\n",
       "      <td>NaN</td>\n",
       "    </tr>\n",
       "    <tr>\n",
       "      <th>max</th>\n",
       "      <td>NaN</td>\n",
       "      <td>1.000000</td>\n",
       "      <td>737.000000</td>\n",
       "      <td>2017.000000</td>\n",
       "      <td>NaN</td>\n",
       "      <td>53.000000</td>\n",
       "      <td>31.000000</td>\n",
       "      <td>19.000000</td>\n",
       "      <td>50.000000</td>\n",
       "      <td>55.000000</td>\n",
       "      <td>...</td>\n",
       "      <td>NaN</td>\n",
       "      <td>535.000000</td>\n",
       "      <td>543.000000</td>\n",
       "      <td>391.000000</td>\n",
       "      <td>NaN</td>\n",
       "      <td>5400.000000</td>\n",
       "      <td>8.000000</td>\n",
       "      <td>5.000000</td>\n",
       "      <td>NaN</td>\n",
       "      <td>NaN</td>\n",
       "    </tr>\n",
       "  </tbody>\n",
       "</table>\n",
       "<p>11 rows × 32 columns</p>\n",
       "</div>"
      ],
      "text/plain": [
       "             hotel    is_canceled      lead_time  arrival_date_year  \\\n",
       "count       119390  119390.000000  119390.000000      119390.000000   \n",
       "unique           2            NaN            NaN                NaN   \n",
       "top     City Hotel            NaN            NaN                NaN   \n",
       "freq         79330            NaN            NaN                NaN   \n",
       "mean           NaN       0.370416     104.011416        2016.156554   \n",
       "std            NaN       0.482918     106.863097           0.707476   \n",
       "min            NaN       0.000000       0.000000        2015.000000   \n",
       "25%            NaN       0.000000      18.000000        2016.000000   \n",
       "50%            NaN       0.000000      69.000000        2016.000000   \n",
       "75%            NaN       1.000000     160.000000        2017.000000   \n",
       "max            NaN       1.000000     737.000000        2017.000000   \n",
       "\n",
       "       arrival_date_month  arrival_date_week_number  \\\n",
       "count              119390             119390.000000   \n",
       "unique                 12                       NaN   \n",
       "top                August                       NaN   \n",
       "freq                13877                       NaN   \n",
       "mean                  NaN                 27.165173   \n",
       "std                   NaN                 13.605138   \n",
       "min                   NaN                  1.000000   \n",
       "25%                   NaN                 16.000000   \n",
       "50%                   NaN                 28.000000   \n",
       "75%                   NaN                 38.000000   \n",
       "max                   NaN                 53.000000   \n",
       "\n",
       "        arrival_date_day_of_month  stays_in_weekend_nights  \\\n",
       "count               119390.000000            119390.000000   \n",
       "unique                        NaN                      NaN   \n",
       "top                           NaN                      NaN   \n",
       "freq                          NaN                      NaN   \n",
       "mean                    15.798241                 0.927599   \n",
       "std                      8.780829                 0.998613   \n",
       "min                      1.000000                 0.000000   \n",
       "25%                      8.000000                 0.000000   \n",
       "50%                     16.000000                 1.000000   \n",
       "75%                     23.000000                 2.000000   \n",
       "max                     31.000000                19.000000   \n",
       "\n",
       "        stays_in_week_nights         adults  ...  deposit_type          agent  \\\n",
       "count          119390.000000  119390.000000  ...        119390  103050.000000   \n",
       "unique                   NaN            NaN  ...             3            NaN   \n",
       "top                      NaN            NaN  ...    No Deposit            NaN   \n",
       "freq                     NaN            NaN  ...        104641            NaN   \n",
       "mean                2.500302       1.856403  ...           NaN      86.693382   \n",
       "std                 1.908286       0.579261  ...           NaN     110.774548   \n",
       "min                 0.000000       0.000000  ...           NaN       1.000000   \n",
       "25%                 1.000000       2.000000  ...           NaN       9.000000   \n",
       "50%                 2.000000       2.000000  ...           NaN      14.000000   \n",
       "75%                 3.000000       2.000000  ...           NaN     229.000000   \n",
       "max                50.000000      55.000000  ...           NaN     535.000000   \n",
       "\n",
       "            company days_in_waiting_list customer_type            adr  \\\n",
       "count   6797.000000        119390.000000        119390  119390.000000   \n",
       "unique          NaN                  NaN             4            NaN   \n",
       "top             NaN                  NaN     Transient            NaN   \n",
       "freq            NaN                  NaN         89613            NaN   \n",
       "mean     189.266735             2.321149           NaN     101.831122   \n",
       "std      131.655015            17.594721           NaN      50.535790   \n",
       "min        6.000000             0.000000           NaN      -6.380000   \n",
       "25%       62.000000             0.000000           NaN      69.290000   \n",
       "50%      179.000000             0.000000           NaN      94.575000   \n",
       "75%      270.000000             0.000000           NaN     126.000000   \n",
       "max      543.000000           391.000000           NaN    5400.000000   \n",
       "\n",
       "        required_car_parking_spaces  total_of_special_requests  \\\n",
       "count                 119390.000000              119390.000000   \n",
       "unique                          NaN                        NaN   \n",
       "top                             NaN                        NaN   \n",
       "freq                            NaN                        NaN   \n",
       "mean                       0.062518                   0.571363   \n",
       "std                        0.245291                   0.792798   \n",
       "min                        0.000000                   0.000000   \n",
       "25%                        0.000000                   0.000000   \n",
       "50%                        0.000000                   0.000000   \n",
       "75%                        0.000000                   1.000000   \n",
       "max                        8.000000                   5.000000   \n",
       "\n",
       "        reservation_status reservation_status_date  \n",
       "count               119390                  119390  \n",
       "unique                   3                     926  \n",
       "top              Check-Out              21/10/2015  \n",
       "freq                 75166                    1461  \n",
       "mean                   NaN                     NaN  \n",
       "std                    NaN                     NaN  \n",
       "min                    NaN                     NaN  \n",
       "25%                    NaN                     NaN  \n",
       "50%                    NaN                     NaN  \n",
       "75%                    NaN                     NaN  \n",
       "max                    NaN                     NaN  \n",
       "\n",
       "[11 rows x 32 columns]"
      ]
     },
     "execution_count": 77,
     "metadata": {},
     "output_type": "execute_result"
    }
   ],
   "source": [
    "df.columns\n",
    "df.dtypes\n",
    "df.describe(include='all')\n",
    "#n = df.columns.to_list()\n",
    "#print(len(n))\n"
   ]
  },
  {
   "cell_type": "code",
   "execution_count": 78,
   "id": "318a68ed-a239-4423-a395-96749b688ea7",
   "metadata": {},
   "outputs": [
    {
     "name": "stdout",
     "output_type": "stream",
     "text": [
      "<class 'pandas.core.frame.DataFrame'>\n",
      "RangeIndex: 119390 entries, 0 to 119389\n",
      "Data columns (total 32 columns):\n",
      " #   Column                          Non-Null Count   Dtype  \n",
      "---  ------                          --------------   -----  \n",
      " 0   hotel                           119390 non-null  object \n",
      " 1   is_canceled                     119390 non-null  int64  \n",
      " 2   lead_time                       119390 non-null  int64  \n",
      " 3   arrival_date_year               119390 non-null  int64  \n",
      " 4   arrival_date_month              119390 non-null  object \n",
      " 5   arrival_date_week_number        119390 non-null  int64  \n",
      " 6   arrival_date_day_of_month       119390 non-null  int64  \n",
      " 7   stays_in_weekend_nights         119390 non-null  int64  \n",
      " 8   stays_in_week_nights            119390 non-null  int64  \n",
      " 9   adults                          119390 non-null  int64  \n",
      " 10  children                        119386 non-null  float64\n",
      " 11  babies                          119390 non-null  int64  \n",
      " 12  meal                            119390 non-null  object \n",
      " 13  country                         118902 non-null  object \n",
      " 14  market_segment                  119390 non-null  object \n",
      " 15  distribution_channel            119390 non-null  object \n",
      " 16  is_repeated_guest               119390 non-null  int64  \n",
      " 17  previous_cancellations          119390 non-null  int64  \n",
      " 18  previous_bookings_not_canceled  119390 non-null  int64  \n",
      " 19  reserved_room_type              119390 non-null  object \n",
      " 20  assigned_room_type              119390 non-null  object \n",
      " 21  booking_changes                 119390 non-null  int64  \n",
      " 22  deposit_type                    119390 non-null  object \n",
      " 23  agent                           103050 non-null  float64\n",
      " 24  company                         6797 non-null    float64\n",
      " 25  days_in_waiting_list            119390 non-null  int64  \n",
      " 26  customer_type                   119390 non-null  object \n",
      " 27  adr                             119390 non-null  float64\n",
      " 28  required_car_parking_spaces     119390 non-null  int64  \n",
      " 29  total_of_special_requests       119390 non-null  int64  \n",
      " 30  reservation_status              119390 non-null  object \n",
      " 31  reservation_status_date         119390 non-null  object \n",
      "dtypes: float64(4), int64(16), object(12)\n",
      "memory usage: 29.1+ MB\n"
     ]
    }
   ],
   "source": [
    "df.info()\n",
    "\n"
   ]
  },
  {
   "cell_type": "code",
   "execution_count": 1,
   "id": "d3f4c86e-482e-41e8-b66e-dfa2fdb46fac",
   "metadata": {},
   "outputs": [
    {
     "data": {
      "text/plain": [
       "[1, 2, 3, 4, 5, 6, 7, 8, 9]"
      ]
     },
     "execution_count": 1,
     "metadata": {},
     "output_type": "execute_result"
    }
   ],
   "source": [
    "\n",
    "my_list = [i for i in range(1, 10)]\n",
    "my_list\n",
    "# [1, 2, 3, 4, 5, 6, 7, 8, 9]"
   ]
  },
  {
   "cell_type": "code",
   "execution_count": 8,
   "id": "264514a8-ce68-435b-a536-92872d6b7672",
   "metadata": {},
   "outputs": [
    {
     "name": "stdout",
     "output_type": "stream",
     "text": [
      " DataCampBlackFridaySale\n"
     ]
    }
   ],
   "source": [
    "def str_replace(text,ch):\n",
    "    result = \" \"\n",
    "    for i in text :\n",
    "            if (i == ' '):\n",
    "                result += ch\n",
    "            else:\n",
    "                result += i\n",
    "    return result\n",
    "\n",
    "text = \"D t C mpBl ckFrid yS le\"\n",
    "ch = \"a\"\n",
    "result_text = str_replace(text, ch)\n",
    "print(result_text)\n"
   ]
  },
  {
   "cell_type": "code",
   "execution_count": 10,
   "id": "579e001e-29bb-4d88-8cc4-690192afb0ab",
   "metadata": {},
   "outputs": [
    {
     "name": "stdout",
     "output_type": "stream",
     "text": [
      "True\n",
      "False\n"
     ]
    }
   ],
   "source": [
    "import math\n",
    "def valid_square(n):\n",
    "   square = int(math.sqrt(n))\n",
    "   return square ** 2 == n\n",
    "\n",
    "\n",
    "flag = valid_square(36) \n",
    "print(flag)\n",
    "\n",
    "flag = valid_square(6) \n",
    "print(flag)\n",
    "\n"
   ]
  },
  {
   "cell_type": "code",
   "execution_count": 7,
   "id": "082df532-b716-4a1d-aa41-aa93290fca39",
   "metadata": {},
   "outputs": [
    {
     "name": "stdout",
     "output_type": "stream",
     "text": [
      "List is empty.\n",
      "List is not empty.\n",
      "list_flag_count: 1 | List elements: [11] "
     ]
    }
   ],
   "source": [
    "my_list = []\n",
    "list_empty_flag = True\n",
    "count = 0\n",
    "\n",
    "while list_empty_flag:\n",
    "    if not my_list:\n",
    "        print(\"List is empty.\")\n",
    "        count += 1\n",
    "        if count <= 2:\n",
    "            my_list.append(10 + count)\n",
    "    else:\n",
    "        print(\"List is not empty.\")\n",
    "        #my_list.pop(len(my_list) -1)\n",
    "        list_empty_flag = False\n",
    "\n",
    "\n",
    "print(\"list_flag_count: \" + str(len(my_list)), end=\" | \")\n",
    "print(\"List elements:\", my_list, end=\" \")\n",
    "\n"
   ]
  },
  {
   "cell_type": "code",
   "execution_count": null,
   "id": "5f49dfe4-3a98-4a40-9ddc-d390c5e42201",
   "metadata": {},
   "outputs": [],
   "source": []
  },
  {
   "cell_type": "code",
   "execution_count": 11,
   "id": "ed623bf6-2ebd-4659-a75c-7dd8212f90ce",
   "metadata": {},
   "outputs": [
    {
     "name": "stdout",
     "output_type": "stream",
     "text": [
      "Original List: [1, 2, 2, 3, 3, 4]\n",
      "Original List: [1, 1, 3, 4, 5, 6, 6]\n",
      "Original List: [1, 2, 2, 3, 3, 4]\n",
      "Original List: [1, 1, 3, 4, 5, 6, 6]\n"
     ]
    }
   ],
   "source": [
    "def removeDuplicates(original_list) :\n",
    "    unique_elements = list(set(original_list))\n",
    "    return list(set(original_list))\n",
    "    \n",
    "\n",
    "\n",
    "array_1 = [1,2,2,3,3,4]\n",
    "removeDuplicates(array_1)\n",
    "print(\"Original List:\", array_1)\n",
    "    \n",
    "\n",
    "\n",
    "array_2 = [1,1,3,4,5,6,6]\n",
    "removeDuplicates( array_2)\n",
    "print(\"Original List:\", array_2)\n",
    "\n",
    "\n",
    "\n",
    "\n",
    "\n",
    "\n"
   ]
  },
  {
   "cell_type": "code",
   "execution_count": 18,
   "id": "a1f99a36-0cf2-4395-891d-bbdb1c3ce104",
   "metadata": {},
   "outputs": [
    {
     "name": "stdout",
     "output_type": "stream",
     "text": [
      "Original List: []\n",
      "Original List: [1, 3, 4, 5]\n"
     ]
    }
   ],
   "source": [
    "def removeDuplicates(original_list):\n",
    "    # return list(set(original_list))\n",
    "    if not original_list:\n",
    "        return original_list\n",
    "    unique_list = []\n",
    "    listLength = len(original_list)\n",
    "    listCounter = 0\n",
    "    for i in range(1, listLength):\n",
    "        if original_list[i-1] != original_list[i]:\n",
    "            unique_list.append(original_list[i-1])\n",
    "            listCounter += 1\n",
    "    return unique_list\n",
    "\n",
    "\n",
    "array_1 = []\n",
    "array_1 = removeDuplicates(array_1)\n",
    "print(\"Original List:\", array_1)\n",
    "\n",
    "array_2 = [1, 1, 3, 4, 5, 6, 6]\n",
    "array_2 = removeDuplicates(array_2)\n",
    "print(\"Original List:\", array_2)\n"
   ]
  },
  {
   "cell_type": "code",
   "execution_count": 37,
   "id": "422c4871-329e-4f75-bd2e-5191780b87c4",
   "metadata": {},
   "outputs": [
    {
     "name": "stdout",
     "output_type": "stream",
     "text": [
      " \n",
      "Can segment d\n",
      " | ok atacamp\n",
      " \n",
      "Can segment a\n",
      "Can segment at\n",
      "Can segment ata\n",
      "Can segment atac\n",
      "Can segment ataca\n",
      "Can segment atacam\n",
      "Can segment atacamp\n",
      "Can segment da\n",
      "Can segment dat\n",
      "Can segment data\n",
      "Can segment datac\n",
      "Can segment dataca\n",
      "Can segment datacam\n",
      "Can segment datacamp\n",
      "Can segment 'datacamp': False\n"
     ]
    }
   ],
   "source": [
    "def can_segment_str(s, dictionary):\n",
    "    if not s:\n",
    "        return True  # An empty string can always be segmented\n",
    "\n",
    "    for i in range(1, len(s) + 1):\n",
    "        first_substring = s[:i]\n",
    "        print(f\"Can segment {first_substring}\", end=\"\\n\")\n",
    "\n",
    "        if first_substring in dictionary:\n",
    "            second_substring = s[i:]\n",
    "            print(f\" | ok {second_substring}\")\n",
    "\n",
    "\n",
    "            if can_segment_str(second_substring, dictionary):\n",
    "                return True\n",
    "\n",
    "    return False\n",
    "\n",
    "# Example usage\n",
    "s = \"datacamp\"\n",
    "dictionary = [\"d\", \"datad\", \"camp\", \"cam\", \"lack\"]\n",
    "result = can_segment_str(s, dictionary)\n",
    "print(f\"Can segment '{s}': {result}\")\n"
   ]
  },
  {
   "cell_type": "code",
   "execution_count": 82,
   "id": "b8ed9022-4a2b-468b-ac2e-0253fdc24783",
   "metadata": {},
   "outputs": [
    {
     "name": "stdout",
     "output_type": "stream",
     "text": [
      "Can segment datacamp: True\n",
      "Unique and Reversed List: ['data', 'camp']\n"
     ]
    }
   ],
   "source": [
    "def can_segment(s, dictionary, uniqueList):\n",
    "    if not s:\n",
    "        return True\n",
    "\n",
    "    for i in range(1, len(s) + 1):\n",
    "        first_substring = s[0:i]\n",
    "\n",
    "        if first_substring in dictionary:\n",
    "            second_substring = s[i:]\n",
    "\n",
    "            if can_segment(second_substring, dictionary, uniqueList):\n",
    "                uniqueList.append(first_substring)\n",
    "                uniqueList[:] = sorted(set(uniqueList))[::-1]\n",
    "               # Remove duplicates and reverse the list in-place\n",
    "               # temp_list = list(set(uniqueList))\n",
    "               # temp_list.reverse()\n",
    "               # uniqueList.clear()\n",
    "               # uniqueList.extend(temp_list)\n",
    "                return True\n",
    "\n",
    "uniqueList = []\n",
    "s = \"datacamp\"\n",
    "dictionary = [\"data\", \"famp\", \"ght\", \"camp\"]\n",
    "result = can_segment(s, dictionary, uniqueList)\n",
    "print(f\"Can segment {s}: {result}\")\n",
    "print(f\"Unique and Reversed List: {uniqueList}\")\n"
   ]
  },
  {
   "cell_type": "code",
   "execution_count": 83,
   "id": "a47e2e0b-ca2f-40da-8111-c561bc6868bb",
   "metadata": {},
   "outputs": [
    {
     "name": "stdout",
     "output_type": "stream",
     "text": [
      "Concatenated List: datacamp\n",
      "Matched String: datacamp\n",
      "Uppercase: DATACAMP\n",
      "Lowercase: datacamp\n"
     ]
    }
   ],
   "source": [
    "concatenated_string = ''.join(uniqueList)\n",
    "print(f\"Concatenated List: {concatenated_string}\")\n",
    "\n",
    "if (concatenated_string == s):\n",
    "    print(f\"Matched String: {concatenated_string}\")\n",
    "else:\n",
    "    print(f\"unMatch sTring: {concatenated_string} | {s}\")\n",
    "\n",
    "\n",
    "original_string = concatenated_string\n",
    "\n",
    "# Convert to uppercase\n",
    "uppercase_strin = original_string.upper()\n",
    "print(f\"Uppercase: {uppercase_string}\")\n",
    "\n",
    "# Convert to lowercase\n",
    "lowercase_string = original_string.lower()\n",
    "print(f\"Lowercase: {lowercase_string}\")\n",
    "\n"
   ]
  },
  {
   "cell_type": "code",
   "execution_count": 137,
   "id": "20e37cf6-42b3-4ac4-9566-547aea0c15ca",
   "metadata": {},
   "outputs": [
    {
     "name": "stdout",
     "output_type": "stream",
     "text": [
      "Loop 1 || Buy at 18 and Sell at 16 for a profit of -2\n",
      "Loop 2 || Buy at 16 and Sell at 14 for a profit of -2\n",
      "Loop 3 || Buy at 14 and Sell at 11 for a profit of -3\n",
      "Loop 4 || Buy at 11 and Sell at 10 for a profit of -1\n",
      "Profit Loop 4 || Buy at 11 and Sell at 10 for a profit of -1\n",
      "Loop 5 || Buy at 10 and Sell at 1 for a profit of -9\n"
     ]
    },
    {
     "data": {
      "text/plain": [
       "'Buy at 11 and Sell at 16 for a profit of -1'"
      ]
     },
     "execution_count": 137,
     "metadata": {},
     "output_type": "execute_result"
    }
   ],
   "source": [
    "def buy_sell_stock_prices(stock_prices):\n",
    "    globalBuy = stock_prices[0]\n",
    "    globalSell = stock_prices[1]\n",
    "    globalProfit = globalSell - globalBuy\n",
    "\n",
    "    for i in range (1, len(stock_prices)):\n",
    "        currentBuy = stock_prices[i-1]\n",
    "        currentSell = stock_prices[i]\n",
    "        currentProfit = currentSell - currentBuy\n",
    "        print( f\"Loop {i} || Buy at {currentBuy} and Sell at {currentSell} for a profit of {currentProfit}\")\n",
    "        \n",
    "\n",
    "        if (currentProfit > globalProfit):\n",
    "            globalProfit = currentProfit\n",
    "            globalBuy =  currentBuy\n",
    "            print( f\"Profit Loop {i} || Buy at {currentBuy} and Sell at {currentSell} for a profit of {currentProfit}\")\n",
    "        \n",
    "\n",
    "        if currentBuy > globalSell:\n",
    "           currenBuy = globalSell  \n",
    "\n",
    "    return f\"Buy at {globalBuy} and Sell at {globalSell} for a profit of {globalProfit}\"\n",
    "\n",
    "\n",
    "\n",
    "stock_prices_1 = [8, 44, 12, 9, 20, 100]\n",
    "#buy_sell_stock_prices(stock_prices_1)\n",
    "\n",
    "stock_prices_2 = [18, 16, 14, 11, 10, 1]\n",
    "buy_sell_stock_prices(stock_prices_2)"
   ]
  },
  {
   "cell_type": "code",
   "execution_count": 149,
   "id": "a33985aa-39bb-4067-9227-bc4ad394539a",
   "metadata": {},
   "outputs": [
    {
     "name": "stdout",
     "output_type": "stream",
     "text": [
      "Loop  || Buy at 8 and Sell at 44 for a profit of 36\n",
      "Loop  || Buy at 8 and Sell at 12 for a profit of 4\n",
      "Loop  || Buy at 8 and Sell at 7 for a profit of -1\n",
      "Loop  || Buy at 7 and Sell at 120 for a profit of 113\n",
      "Loop  || Buy at 7 and Sell at 100 for a profit of 93\n",
      "Buy Price: 7, Sell Price: 120\n",
      "Loop  || Buy at 18 and Sell at 16 for a profit of -2\n",
      "Loop  || Buy at 16 and Sell at 14 for a profit of -2\n",
      "Loop  || Buy at 14 and Sell at 11 for a profit of -3\n",
      "Loop  || Buy at 11 and Sell at 18 for a profit of 7\n",
      "Loop  || Buy at 11 and Sell at 1 for a profit of -10\n",
      "Buy Price: 1, Sell Price: 18\n"
     ]
    }
   ],
   "source": [
    "def find_buy_sell_stock_prices(stock_prices):\n",
    "    if len(stock_prices) < 2:\n",
    "        return \"Not enough data to make a decision.\"\n",
    "\n",
    "    current_buy = stock_prices[0]\n",
    "    global_sell = stock_prices[1]\n",
    "    global_profit = global_sell - current_buy\n",
    "\n",
    "    current_profit = 0\n",
    "\n",
    "    for price in stock_prices[1:]:\n",
    "        current_profit = price - current_buy\n",
    "        print( f\"Loop  || Buy at {current_buy} and Sell at {price} for a profit of {current_profit}\")\n",
    "       \n",
    "\n",
    "        if current_profit > global_profit:\n",
    "            global_profit = current_profit\n",
    "            global_sell = price\n",
    "\n",
    "        if current_buy > price:\n",
    "            current_buy = price\n",
    "\n",
    "    return current_buy, global_sell\n",
    "\n",
    "# Example usage for maximizing profit:\n",
    "stock_prices_1 = [8, 44, 12, 7, 120, 100]\n",
    "buy, sell = find_buy_sell_stock_prices(stock_prices_1)\n",
    "print(f\"Buy Price: {buy}, Sell Price: {sell}\")\n",
    "\n",
    "# Example usage for minimizing loss:\n",
    "stock_prices_2 = [18, 16, 14, 11, 18, 1]\n",
    "buy, sell = find_buy_sell_stock_prices(stock_prices_2)\n",
    "print(f\"Buy Price: {buy}, Sell Price: {sell}\")\n"
   ]
  },
  {
   "cell_type": "code",
   "execution_count": 152,
   "id": "6c491749-9e58-4ca9-b45e-df1e2fc63ba2",
   "metadata": {},
   "outputs": [
    {
     "name": "stdout",
     "output_type": "stream",
     "text": [
      "Checking triplet: 1^2 + 36^2 = 1^2\n",
      "Checking triplet: 1^2 + 25^2 = 1^2\n",
      "Checking triplet: 1^2 + 16^2 = 1^2\n",
      "Checking triplet: 1^2 + 9^2 = 1^2\n",
      "Checking triplet: 1^2 + 36^2 = 9^2\n",
      "Checking triplet: 1^2 + 25^2 = 9^2\n",
      "Checking triplet: 1^2 + 16^2 = 9^2\n",
      "Checking triplet: 1^2 + 9^2 = 9^2\n",
      "Checking triplet: 1^2 + 36^2 = 16^2\n",
      "Checking triplet: 1^2 + 25^2 = 16^2\n",
      "Checking triplet: 1^2 + 16^2 = 16^2\n",
      "Checking triplet: 1^2 + 9^2 = 16^2\n",
      "Checking triplet: 1^2 + 36^2 = 25^2\n",
      "Checking triplet: 1^2 + 25^2 = 25^2\n",
      "Checking triplet: 1^2 + 16^2 = 25^2\n",
      "Checking triplet: 9^2 + 16^2 = 25^2\n",
      "Pythagorean triplet found!\n",
      "True\n",
      "Checking triplet: 16^2 + 144^2 = 16^2\n",
      "Checking triplet: 16^2 + 100^2 = 16^2\n",
      "Checking triplet: 16^2 + 36^2 = 16^2\n",
      "Checking triplet: 16^2 + 25^2 = 16^2\n",
      "Checking triplet: 16^2 + 144^2 = 25^2\n",
      "Checking triplet: 16^2 + 100^2 = 25^2\n",
      "Checking triplet: 16^2 + 36^2 = 25^2\n",
      "Checking triplet: 16^2 + 25^2 = 25^2\n",
      "Checking triplet: 16^2 + 144^2 = 36^2\n",
      "Checking triplet: 16^2 + 100^2 = 36^2\n",
      "Checking triplet: 16^2 + 36^2 = 36^2\n",
      "Checking triplet: 16^2 + 25^2 = 36^2\n",
      "Checking triplet: 16^2 + 144^2 = 100^2\n",
      "Checking triplet: 16^2 + 100^2 = 100^2\n",
      "Checking triplet: 16^2 + 36^2 = 100^2\n",
      "Checking triplet: 25^2 + 36^2 = 100^2\n",
      "Checking triplet: 16^2 + 144^2 = 144^2\n",
      "Checking triplet: 16^2 + 100^2 = 144^2\n",
      "Checking triplet: 25^2 + 100^2 = 144^2\n",
      "Checking triplet: 36^2 + 100^2 = 144^2\n",
      "False\n"
     ]
    }
   ],
   "source": [
    "def has_pythagorean_triplet(arr):\n",
    "    arr_squared = [x**2 for x in arr]\n",
    "    arr_squared.sort()\n",
    "\n",
    "    n = len(arr_squared)\n",
    "\n",
    "    for i in range(n):\n",
    "        left = 0\n",
    "        right = n - 1\n",
    "\n",
    "        while left < right:\n",
    "            print(f\"Checking triplet: {arr_squared[left]}^2 + {arr_squared[right]}^2 = {arr_squared[i]}^2\")\n",
    "\n",
    "            if arr_squared[left] + arr_squared[right] == arr_squared[i]:\n",
    "                print(\"Pythagorean triplet found!\")\n",
    "                return True\n",
    "            elif arr_squared[left] + arr_squared[right] < arr_squared[i]:\n",
    "                left += 1\n",
    "            else:\n",
    "                right -= 1\n",
    "\n",
    "    return False\n",
    "\n",
    "# Example usage:\n",
    "arr1 = [3, 1, 4, 6, 5]\n",
    "print(has_pythagorean_triplet(arr1))  # Output: True\n",
    "\n",
    "arr2 = [10, 4, 6, 12, 5]\n",
    "print(has_pythagorean_triplet(arr2))  # Output: False\n",
    "de"
   ]
  },
  {
   "cell_type": "code",
   "execution_count": 35,
   "id": "44fe5f99-8805-4c38-84cd-99b96f47e14a",
   "metadata": {},
   "outputs": [
    {
     "name": "stdout",
     "output_type": "stream",
     "text": [
      "(0, 6)\n",
      "(0, 8)\n",
      "False\n"
     ]
    }
   ],
   "source": [
    "def max_index_diff(array): \n",
    "    n = len(array)\n",
    "    i_max_value , j_max_value = 0, 0\n",
    "    \n",
    "    if not array:\n",
    "        return False\n",
    "     \n",
    "    \n",
    "    for i in range(0, n-1):\n",
    "        for j in range(i+1, n):\n",
    "             if array[j] > array[i]:\n",
    "                j_max_value = max(j_max_value, j- i)\n",
    "             else:\n",
    "                i_max_value = max(i_max_value, i- j) \n",
    "        \n",
    "    return i_max_value, j_max_value\n",
    "\n",
    "arr1 = [20, 70, 40, 50, 12, 38, 98]\n",
    "print(max_index_diff(arr1))  # Output: (0, 6, 0) (i = 0, j = 6)\n",
    "\n",
    "arr2 = [10, 3, 2, 4, 5, 6, 7, 8, 18, 0]\n",
    "print(max_index_diff(arr2))  # Output: (0, 8, 0) (i = 0, j = 8)\n",
    "\n",
    "arr3 = []\n",
    "print(max_index_diff(arr3))  # Output: False\n",
    "\n"
   ]
  },
  {
   "cell_type": "code",
   "execution_count": 3,
   "id": "04cd78db-806f-4074-83f7-9dcf7edf00d2",
   "metadata": {},
   "outputs": [
    {
     "name": "stdout",
     "output_type": "stream",
     "text": [
      "Checking pair: (0, 1), Difference: 1\n",
      "Checking pair: (0, 2), Difference: 2\n",
      "Checking pair: (0, 3), Difference: 3\n",
      "Checking pair: (0, 5), Difference: 5\n",
      "Checking pair: (0, 6), Difference: 6\n",
      "Checking pair: (1, 6), Difference: 5\n",
      "Checking pair: (2, 3), Difference: 1\n",
      "Checking pair: (2, 6), Difference: 4\n",
      "Checking pair: (3, 6), Difference: 3\n",
      "Checking pair: (4, 5), Difference: 1\n",
      "Checking pair: (4, 6), Difference: 2\n",
      "Checking pair: (5, 6), Difference: 1\n",
      "Max Index Difference: 6\n",
      "Checking pair: (0, 8), Difference: 8\n",
      "Checking pair: (1, 3), Difference: 2\n",
      "Checking pair: (1, 4), Difference: 3\n",
      "Checking pair: (1, 5), Difference: 4\n",
      "Checking pair: (1, 6), Difference: 5\n",
      "Checking pair: (1, 7), Difference: 6\n",
      "Checking pair: (1, 8), Difference: 7\n",
      "Checking pair: (2, 3), Difference: 1\n",
      "Checking pair: (2, 4), Difference: 2\n",
      "Checking pair: (2, 5), Difference: 3\n",
      "Checking pair: (2, 6), Difference: 4\n",
      "Checking pair: (2, 7), Difference: 5\n",
      "Checking pair: (2, 8), Difference: 6\n",
      "Checking pair: (3, 4), Difference: 1\n",
      "Checking pair: (3, 5), Difference: 2\n",
      "Checking pair: (3, 6), Difference: 3\n",
      "Checking pair: (3, 7), Difference: 4\n",
      "Checking pair: (3, 8), Difference: 5\n",
      "Checking pair: (4, 5), Difference: 1\n",
      "Checking pair: (4, 6), Difference: 2\n",
      "Checking pair: (4, 7), Difference: 3\n",
      "Checking pair: (4, 8), Difference: 4\n",
      "Checking pair: (5, 6), Difference: 1\n",
      "Checking pair: (5, 7), Difference: 2\n",
      "Checking pair: (5, 8), Difference: 3\n",
      "Checking pair: (6, 7), Difference: 1\n",
      "Checking pair: (6, 8), Difference: 2\n",
      "Checking pair: (7, 8), Difference: 1\n",
      "Max Index Difference: 8\n"
     ]
    }
   ],
   "source": [
    "def max_index_diff(array):\n",
    "    max_diff = 0\n",
    "    n = len(array)\n",
    "\n",
    "    if not array or n <= 1:\n",
    "        return False\n",
    "\n",
    "    for i in range(n-1):\n",
    "        for j in range(i+1, n):\n",
    "            if array[j] > array[i]:\n",
    "                max_diff = max(max_diff, j - i)\n",
    "                print(f\"Checking pair: ({i}, {j}), Difference: {j - i}\")\n",
    "\n",
    "    return max_diff\n",
    "\n",
    "arr1 = [20, 70, 40, 50, 12, 38, 98]\n",
    "print(\"Max Index Difference:\", max_index_diff(arr1))  # Output: 6 (j = 6, i = 0)\n",
    "\n",
    "arr2 = [10, 3, 2, 4, 5, 6, 7, 8, 18, 0]\n",
    "print(\"Max Index Difference:\", max_index_diff(arr2))  # Output: 8 (j = 8, i = 0)\n"
   ]
  },
  {
   "cell_type": "code",
   "execution_count": 4,
   "id": "63ca49f6-ef6f-4079-b1fb-3f6c8c4cb9c0",
   "metadata": {},
   "outputs": [
    {
     "name": "stdout",
     "output_type": "stream",
     "text": [
      "(8, 100)\n",
      "(4, 3)\n"
     ]
    }
   ],
   "source": [
    "def buy_sell_stock_prices(stock_prices):\n",
    "    currentBuy = stock_prices[0]\n",
    "    globalSell = stock_prices[1]\n",
    "    globalProfit = globalSell - currentBuy\n",
    "\n",
    "    for i in range(1, len(stock_prices)):\n",
    "        currentProfit = stock_prices[i] - currentBuy\n",
    "\n",
    "        if currentProfit > globalProfit:\n",
    "            globalProfit = currentProfit\n",
    "            globalSell = stock_prices[i]\n",
    "\n",
    "        if currentBuy > stock_prices[i]:\n",
    "            currentBuy = stock_prices[i]\n",
    "\n",
    "    return globalSell - globalProfit, globalSell\n",
    "\n",
    "stock_prices_1 = [8, 44, 12, 9, 20, 100]\n",
    "print(buy_sell_stock_prices(stock_prices_1))\n",
    "# (9, 23)\n",
    "\n",
    "stock_prices_2 = [8, 6, 4, 3, 2, 1]\n",
    "print(buy_sell_stock_prices(stock_prices_2))\n",
    "# (6, 5)\n"
   ]
  },
  {
   "cell_type": "code",
   "execution_count": 5,
   "id": "7db95d77-ed07-4ee4-8377-985fc7d4c43c",
   "metadata": {},
   "outputs": [
    {
     "data": {
      "text/plain": [
       "8"
      ]
     },
     "execution_count": 5,
     "metadata": {},
     "output_type": "execute_result"
    }
   ],
   "source": [
    "def find_missing(input_list):\n",
    "\n",
    "  sum_of_elements = sum(input_list)\n",
    " \n",
    "  # There is exactly 1 number missing\n",
    "  n = len(input_list) + 1\n",
    "  actual_sum = (n * ( n + 1 ) ) / 2\n",
    " \n",
    "  return int(actual_sum - sum_of_elements)\n",
    "list_1 = [4\t,5\t,3\t,2\t,7\t,1\t,6]\n",
    "\n",
    "\n",
    "find_missing(list_1)\n",
    "# 2"
   ]
  },
  {
   "cell_type": "code",
   "execution_count": 6,
   "id": "52d0b2cc-3b69-4c99-a3c2-fc9c3ff6b8f8",
   "metadata": {},
   "outputs": [
    {
     "name": "stdout",
     "output_type": "stream",
     "text": [
      "Buy at 20 and Sell at 100 for a profit of 80\n",
      "Buy at 6 and Sell at 5 for a profit of -1\n"
     ]
    }
   ],
   "source": [
    "def buy_sell_stock_prices(stock_prices):\n",
    "    if len(stock_prices) < 2:\n",
    "        return \"Not enough data to make a profit.\"\n",
    "\n",
    "    globalBuy = stock_prices[0]\n",
    "    globalSell = stock_prices[1]\n",
    "    globalProfit = globalSell - globalBuy\n",
    "\n",
    "    for i in range(1, len(stock_prices)):\n",
    "        currentBuy = stock_prices[i - 1]\n",
    "        currentSell = stock_prices[i]\n",
    "        currentProfit = currentSell - currentBuy\n",
    "\n",
    "        if currentProfit > globalProfit:\n",
    "            globalProfit = currentProfit\n",
    "            globalSell = currentSell\n",
    "            globalBuy = currentBuy\n",
    "\n",
    "    #if globalProfit <= 0:\n",
    "     #   return \"No profit can be made.\"\n",
    "\n",
    "    return f\"Buy at {globalBuy} and Sell at {globalSell} for a profit of {globalProfit}\"\n",
    "\n",
    "stock_prices_1 = [8, 4, 12, 9, 20, 100]\n",
    "print(buy_sell_stock_prices(stock_prices_1))\n",
    "\n",
    "stock_prices_2 = [8, 6, 5, 4, 3, 2, 1]\n",
    "print(buy_sell_stock_prices(stock_prices_2))\n"
   ]
  },
  {
   "cell_type": "code",
   "execution_count": 8,
   "id": "c747c770-528f-4103-90ad-6909acc4e545",
   "metadata": {},
   "outputs": [
    {
     "name": "stdout",
     "output_type": "stream",
     "text": [
      "True\n"
     ]
    }
   ],
   "source": [
    "def can_segment_str(s, dictionary):\n",
    "    for i in range(1, len(s) + 1):\n",
    "        first_str = s[0:i]\n",
    "        if first_str in dictionary:\n",
    "            second_str = s[i:]\n",
    "            if (\n",
    "                not second_str\n",
    "                or second_str in dictionary\n",
    "                or can_segment_str(second_str, dictionary)\n",
    "            ):\n",
    "                return True\n",
    "    return False\n",
    "\n",
    "s = \"datacamp\"\n",
    "dictionary = [\"data\", \"camp\", \"cam\", \"lack\"]\n",
    "result = can_segment_str(s, dictionary)\n",
    "print(result)\n",
    "# Output: True\n"
   ]
  },
  {
   "cell_type": "code",
   "execution_count": 9,
   "id": "1b2b7a8c-320c-469b-bb16-a046a601d077",
   "metadata": {},
   "outputs": [
    {
     "data": {
      "text/plain": [
       "id       1\n",
       "Age      2\n",
       "Score    1\n",
       "dtype: int64"
      ]
     },
     "execution_count": 9,
     "metadata": {},
     "output_type": "execute_result"
    }
   ],
   "source": [
    "import pandas as pd\n",
    "import numpy as np\n",
    "\n",
    "# dictionary of lists\n",
    "dict = {'id':[1, 4, np.nan, 9],\n",
    "        'Age': [30, 45, np.nan, np.nan],\n",
    "        'Score':[np.nan, 140, 180, 198]}\n",
    "\n",
    "# creating a DataFrame\n",
    "df = pd.DataFrame(dict)\n",
    "\n",
    "df.isnull().sum()\n",
    "# id       1\n",
    "# Age      2\n",
    "# Score    1"
   ]
  },
  {
   "cell_type": "code",
   "execution_count": 17,
   "id": "ed076f10-2545-4664-9134-a72072b5b625",
   "metadata": {},
   "outputs": [
    {
     "name": "stdout",
     "output_type": "stream",
     "text": [
      "    id   Age  Score\n",
      "0  1.0  30.0    NaN\n",
      "1  4.0  45.0  140.0\n",
      "2  4.0  45.0  180.0\n",
      "3  9.0  45.0  198.0\n",
      "    id   Age  Score\n",
      "0  1.0  30.0    NaN\n",
      "1  4.0  45.0  140.0\n",
      "2  4.0  45.0  180.0\n",
      "3  9.0  45.0  198.0\n",
      "    id   Age  Score\n",
      "0  1.0  30.0    NaN\n",
      "1  4.0  45.0  140.0\n",
      "2  4.0  45.0  180.0\n",
      "3  9.0  45.0  198.0\n",
      "    id   Age  Score\n",
      "0  1.0  30.0    NaN\n",
      "1  4.0  45.0  140.0\n",
      "2  4.0  45.0  180.0\n",
      "3  9.0  45.0  198.0\n",
      "    id   Age  Score\n",
      "0  1.0  30.0    NaN\n",
      "1  4.0  45.0  140.0\n",
      "2  4.0  45.0  180.0\n",
      "3  9.0  45.0  198.0\n"
     ]
    }
   ],
   "source": [
    "# drop missing values\n",
    "print(df)\n",
    "df.dropna(axis = 0, how ='any')\n",
    "print(df)\n",
    "\n",
    "#fillna\n",
    "df = df.ffill()\n",
    "print(df)\n",
    "\n",
    "\n",
    "#df.fillna(method ='bfill')\n",
    "\n",
    "#replace null values with -999\n",
    "df.replace(to_replace = np.nan, value = -999)\n",
    "print(df)\n",
    "\n",
    "\n",
    "\n",
    "# Interpolate\n",
    "df.interpolate(method ='linear', limit_direction ='forward')\n",
    "print(df)\n"
   ]
  },
  {
   "cell_type": "code",
   "execution_count": null,
   "id": "03334077-5320-4010-b146-9b360777e802",
   "metadata": {},
   "outputs": [],
   "source": []
  },
  {
   "cell_type": "code",
   "execution_count": null,
   "id": "a0e9046c",
   "metadata": {},
   "outputs": [],
   "source": []
  },
  {
   "cell_type": "code",
   "execution_count": 8,
   "id": "957132b7-0a47-4872-9f0d-705b3b861c0b",
   "metadata": {},
   "outputs": [
    {
     "name": "stdout",
     "output_type": "stream",
     "text": [
      "Step 1: ['a.com', 'a.com', 'b.com', 'd.com']\n",
      "Step 2: ['a.com', 'b.com', 'c.com']\n",
      "Step 3: {'a.com': 2, 'b.com': 1, 'c.com': 0}\n",
      "Step 4: {'www.a.com': 2, 'www.b.com': 1, 'www.c.com': 0}\n"
     ]
    }
   ],
   "source": [
    "from urllib.parse import urlparse\n",
    "\n",
    "# Step 1: Find the domain of each email\n",
    "def extract_email_domains(emails):\n",
    "    domains = []\n",
    "    for email in emails:\n",
    "        at_index = email.find('@')\n",
    "        if at_index != -1:\n",
    "            domain = email[at_index + 1:]\n",
    "            if domain.startswith('www.'):\n",
    "                domain = domain[4:]\n",
    "            domains.append(domain)\n",
    "    return domains\n",
    "\n",
    "# Step 2: Find the domains of each URL\n",
    "def extract_url_domains(urls):\n",
    "    domains = []\n",
    "    for url in urls:\n",
    "        # Remove 'www.' if present\n",
    "        url = url.replace('www', '')\n",
    "        # Find the index of the first dot after removing 'www.'\n",
    "        dot_index = url.find('.')\n",
    "        if dot_index != -1:\n",
    "            domain = url[dot_index + 1:]\n",
    "            domains.append(domain)\n",
    "    return domains\n",
    "\n",
    "# Step 3: Count the number of times each URL, ignoring irrelevant ones\n",
    "def count_url_occurrences(email_domains, url_domains):\n",
    "    counts = {url: 0 for url in url_domains}\n",
    "    '''counts = {}\n",
    "    for url in counts:\n",
    "        urlCounts[url] = 0\n",
    "     '''\n",
    "    for domain in email_domains:\n",
    "        if domain in counts:\n",
    "            counts[domain] += 1\n",
    "\n",
    "    return counts\n",
    "# Step 4: Return the dictionary with 'www' attached\n",
    "def add_www_prefix(counts):\n",
    "    www_counts = {}\n",
    "    for domain, count in counts.items():\n",
    "        www_domain = 'www.' + domain\n",
    "        www_counts[www_domain] = count\n",
    "    return www_counts\n",
    "\n",
    "# Test Cases\n",
    "emails = ['foo@a.com', 'bar@a.com', 'baz@b.com', 'qux@d.com']\n",
    "urls = ['www.a.com', 'www.b.com', 'www.c.com']\n",
    "\n",
    "\n",
    "# Test Step 1\n",
    "email_domains = extract_email_domains(emails)\n",
    "print(\"Step 1:\", email_domains)\n",
    "\n",
    "# Test Step 2\n",
    "url_domains = extract_url_domains(urls)\n",
    "print(\"Step 2:\", url_domains)\n",
    "\n",
    "# Test Step 3\n",
    "counts = count_url_occurrences(email_domains, url_domains)\n",
    "print(\"Step 3:\", counts)\n",
    "\n",
    "# Test Step 4\n",
    "www_counts = add_www_prefix(counts)\n",
    "print(\"Step 4:\", www_counts)\n"
   ]
  },
  {
   "cell_type": "code",
   "execution_count": null,
   "id": "a4143a7a-148d-4d27-b17f-93e3c645da66",
   "metadata": {},
   "outputs": [],
   "source": []
  },
  {
   "cell_type": "code",
   "execution_count": null,
   "id": "52306d1f-4aa5-42f1-97d7-ad411dbbf15e",
   "metadata": {},
   "outputs": [],
   "source": []
  },
  {
   "cell_type": "code",
   "execution_count": null,
   "id": "f2ce1f04-6376-456c-b1b0-179cd83f6395",
   "metadata": {},
   "outputs": [],
   "source": []
  },
  {
   "cell_type": "code",
   "execution_count": 15,
   "id": "b741237b-83d2-4799-afd0-f5aaec66edb0",
   "metadata": {},
   "outputs": [
    {
     "name": "stdout",
     "output_type": "stream",
     "text": [
      "Most frequent element: (2, 1, {1: 1, 2: 5, 3: 1, 4: 1, 5: 1, 6: 1, 7: 1})\n"
     ]
    }
   ],
   "source": [
    "def most_frequent_element(lst):\n",
    "    # Create a dictionary to store the frequency of each element\n",
    "    elements = {x:0 for x in lst}\n",
    "            \n",
    "    for li in lst:\n",
    "        if li in elements :\n",
    "          elements[li] += 1\n",
    "\n",
    "    maximum = max(elements, key=elements.get)\n",
    "    minimum = min(elements, key=elements.get)\n",
    "    return maximum , minimum , elements\n",
    "        \n",
    "# Example usage:\n",
    "my_list = [1, 2, 3, 2, 4, 2, 5, 2, 6, 2, 7]\n",
    "result = most_frequent_element(my_list)\n",
    "print(\"Most frequent element:\", result)\n"
   ]
  },
  {
   "cell_type": "code",
   "execution_count": 10,
   "id": "65260e26-e667-44f7-a778-9e378c830373",
   "metadata": {},
   "outputs": [
    {
     "name": "stdout",
     "output_type": "stream",
     "text": [
      "Original string: abc123de9856cf456zyx\n",
      "Reversed string except for alphabets: x|y|z|1|2|3|f|c|9|8|5|6|e|d|4|5|6|c|b|a\n"
     ]
    }
   ],
   "source": [
    "def reverse_except_alphabets(s):\n",
    "    # Convert string to list to make it mutable\n",
    "    new_list =list(s)\n",
    "   # print(f\"{new_list}\") \n",
    "    i = 0 \n",
    "    j = len(new_list) -1\n",
    "    while(i<j):\n",
    "        if new_list[j].isalpha() and new_list[i].isalpha():\n",
    "            new_list[i], new_list[j] = new_list[j], new_list[i]\n",
    "            i += 1\n",
    "            j -= 1\n",
    "        elif not new_list[i].isalpha():\n",
    "            i += 1\n",
    "        else:\n",
    "             j -= 1\n",
    "        #print(f\"{new_list}\") \n",
    "            \n",
    "    return '|'.join(new_list)\n",
    "\n",
    "\n",
    "# Example usage:\n",
    "string = \"abc123de9856cf456zyx\"\n",
    "result = reverse_except_alphabets(string)\n",
    "print(\"Original string:\", string)\n",
    "print(\"Reversed string except for alphabets:\", result)\n"
   ]
  },
  {
   "cell_type": "code",
   "execution_count": 13,
   "id": "ac2ce94d-5b38-4f80-befa-1d3db24347fd",
   "metadata": {},
   "outputs": [
    {
     "data": {
      "text/plain": [
       "15"
      ]
     },
     "execution_count": 13,
     "metadata": {},
     "output_type": "execute_result"
    }
   ],
   "source": [
    "a = lambda x : x + 10\n",
    "a(5)\n"
   ]
  },
  {
   "cell_type": "code",
   "execution_count": 17,
   "id": "1cb04b1a-2f9e-4b09-a0d7-7290716bf0db",
   "metadata": {},
   "outputs": [
    {
     "name": "stdout",
     "output_type": "stream",
     "text": [
      "Euclidean Distance: 5.196152422706632\n"
     ]
    }
   ],
   "source": [
    "import numpy as np\n",
    "\n",
    "def euclidean_distance(series1, series2):\n",
    "    series1 = np.array(series1)\n",
    "    series2 = np.array(series2)\n",
    "\n",
    "    distance = np.sqrt(np.sum(np.square(series1 - series2)))   \n",
    "    return distance\n",
    "\n",
    "# Example usage:\n",
    "series1 = [1, 2, 3]\n",
    "series2 = [4, 5, 6]\n",
    "distance = euclidean_distance(series1, series2)\n",
    "print(\"Euclidean Distance:\", distance)\n"
   ]
  },
  {
   "cell_type": "code",
   "execution_count": 35,
   "id": "7838c7bf-2ecf-4faa-b956-8f01a32ecc75",
   "metadata": {},
   "outputs": [
    {
     "name": "stdout",
     "output_type": "stream",
     "text": [
      "[(1, 2, 3), (1, 2, 4), (1, 3, 4), (2, 3, 4)]\n",
      "(K:3,n:4)\n"
     ]
    }
   ],
   "source": [
    "from itertools import combinations\n",
    "def combine(n, k):\n",
    "    mylist = []\n",
    "    combs  = combinations([ x for x in range(1 , n+1)  ],k)\n",
    "    for comb in combs:\n",
    "     mylist.append(comb)\n",
    "\n",
    "    return mylist\n",
    "    \n",
    "    \n",
    "# Example usage:\n",
    "n = 4\n",
    "\n",
    "k = 3\n",
    "print(combine(n, k))\n",
    "print(f\"(K:{k},n:{n})\")\n",
    "\n"
   ]
  },
  {
   "cell_type": "code",
   "execution_count": 14,
   "id": "78b80a15-da5c-4b75-823f-c57979765985",
   "metadata": {},
   "outputs": [
    {
     "name": "stdout",
     "output_type": "stream",
     "text": [
      "-1\n",
      "1\n",
      "120\n",
      "93326215443944152681699238856266700490715968264381621468592963895217599993229915608941463976156518286253697920827223758251185210916864000000000000000000000000\n"
     ]
    }
   ],
   "source": [
    "def factorial(x):\n",
    "    result = 1\n",
    "    if x < 0 : \n",
    "        return -1\n",
    "    elif x == 0 or x == 1 : \n",
    "        return 1\n",
    "    else:\n",
    "       #return  x * factorial(x-1)\n",
    "        for i in range(1, x + 1):\n",
    "            result *= i\n",
    "        return result\n",
    "\n",
    "print(factorial(-2))\n",
    "print(factorial(1))\n",
    "print(factorial(5))\n",
    "print(factorial(100))\n"
   ]
  },
  {
   "cell_type": "code",
   "execution_count": null,
   "id": "88c6124b-ddb8-4e64-92db-a8209d3ec532",
   "metadata": {},
   "outputs": [],
   "source": []
  },
  {
   "cell_type": "code",
   "execution_count": 60,
   "id": "42f7c01a-5f04-4e3a-a528-18a2a0ed9dd3",
   "metadata": {},
   "outputs": [
    {
     "name": "stdout",
     "output_type": "stream",
     "text": [
      "{'a': 1, 'c': 1, 'v': 1, 'i': 1, 'n': 2, 'g': 1, 'o': 1, 's': 0, 'l': 0, 'e': 0}\n",
      "First recurring character: n\n"
     ]
    }
   ],
   "source": [
    "def find_first_recurring_character(string):\n",
    "    seen_characters = { char :0 for char in string }\n",
    "    #print(seen_characters)\n",
    "    for char in string:\n",
    "        seen_characters[char] += 1\n",
    "        if seen_characters[char] > 1:\n",
    "            print(seen_characters, end = \"\\n\")\n",
    "            #max_value = max(seen_characters.values())\n",
    "            #print(\"max_value: \" + str(max_value))\n",
    "            #return max_value\n",
    "            return char\n",
    "    return \"None\"\n",
    "    \n",
    "input_string = \"acvingonsalves\"\n",
    "output = find_first_recurring_character(input_string)\n",
    "print(\"First recurring character:\", output)\n"
   ]
  },
  {
   "cell_type": "code",
   "execution_count": null,
   "id": "2c1523db-d6b2-43c6-bda6-7915befa0541",
   "metadata": {},
   "outputs": [
    {
     "ename": "SyntaxError",
     "evalue": "invalid syntax (846085541.py, line 10)",
     "output_type": "error",
     "traceback": [
      "\u001b[1;36m  Cell \u001b[1;32mIn[1], line 10\u001b[1;36m\u001b[0m\n\u001b[1;33m    x=[i : i+2 for i in range(5)]\u001b[0m\n\u001b[1;37m         ^\u001b[0m\n\u001b[1;31mSyntaxError\u001b[0m\u001b[1;31m:\u001b[0m invalid syntax\n"
     ]
    }
   ],
   "source": [
    "print(\"ashok\">\"Ashok\")\n",
    "def foo(numbers):\n",
    "    for i in range(len(numbers)):\n",
    "        numbers[i] += 1\n",
    "\n",
    "my_list = [1, 2, 3, 4]\n",
    "foo(my_list)\n",
    "print(my_list)\n",
    "\n"
   ]
  },
  {
   "cell_type": "code",
   "execution_count": null,
   "id": "a4d64266",
   "metadata": {},
   "outputs": [],
   "source": [
    "x=[i : i+2 for i in range(5)]"
   ]
  },
  {
   "cell_type": "code",
   "execution_count": 30,
   "id": "00d1dadf-b103-42f7-bc69-cd77ddba8cd3",
   "metadata": {},
   "outputs": [
    {
     "name": "stdout",
     "output_type": "stream",
     "text": [
      "{'p': 0, 'y': 0, 't': 0, 'h': 0, 'o': 0, 'n': 0, 'i': 0, 'e': 0, 'r': 0, 'v': 0, 'w': 0, 'q': 0, 'u': 0, 's': 0}\n",
      "First recurring character: n\n"
     ]
    }
   ],
   "source": [
    "\n",
    "def find_first_recurring_character(string):\n",
    "    seen_characters = {char: 0 for char in string}\n",
    "    print(seen_characters)\n",
    "    for char in string:\n",
    "        if seen_characters[char] >= 1:\n",
    "            return char\n",
    "        seen_characters[char] += 1\n",
    "    print(seen_characters)\n",
    "    return \"None\"\n",
    "    \n",
    "input_string = \"pythoninterviewquestion\"\n",
    "output = find_first_recurring_character(input_string)\n",
    "print(\"First recurring character:\", output)"
   ]
  },
  {
   "cell_type": "code",
   "execution_count": null,
   "id": "cd08addb",
   "metadata": {},
   "outputs": [],
   "source": []
  },
  {
   "cell_type": "code",
   "execution_count": null,
   "id": "c0c8def4",
   "metadata": {},
   "outputs": [],
   "source": []
  },
  {
   "cell_type": "markdown",
   "id": "9acbe2a3",
   "metadata": {},
   "source": []
  },
  {
   "cell_type": "code",
   "execution_count": null,
   "id": "3ae929b6-9af6-4a63-9c28-f09bf6053f57",
   "metadata": {},
   "outputs": [],
   "source": []
  },
  {
   "cell_type": "code",
   "execution_count": null,
   "id": "36797f50-c496-4df9-bc9a-531e2d895b4f",
   "metadata": {},
   "outputs": [],
   "source": []
  },
  {
   "cell_type": "code",
   "execution_count": null,
   "id": "906dafae-477e-4784-ab00-3a27b2cbe7c5",
   "metadata": {},
   "outputs": [],
   "source": []
  },
  {
   "cell_type": "code",
   "execution_count": null,
   "id": "697ef5d8-a090-42df-9c9f-7c3fa345a63e",
   "metadata": {},
   "outputs": [],
   "source": []
  },
  {
   "cell_type": "code",
   "execution_count": null,
   "id": "445cdfd9-7a19-42a1-ba47-e4ef759d381c",
   "metadata": {},
   "outputs": [],
   "source": []
  },
  {
   "cell_type": "code",
   "execution_count": null,
   "id": "7a807594-c068-46df-bd9d-280670931d06",
   "metadata": {},
   "outputs": [],
   "source": []
  },
  {
   "cell_type": "code",
   "execution_count": null,
   "id": "e920599c-5daa-42dc-aa50-79b6b967e165",
   "metadata": {},
   "outputs": [],
   "source": []
  },
  {
   "cell_type": "code",
   "execution_count": null,
   "id": "ea25cadd-5b96-4e8c-9632-bf3915c05c6e",
   "metadata": {},
   "outputs": [],
   "source": []
  },
  {
   "cell_type": "code",
   "execution_count": null,
   "id": "484d0b32-9638-4fce-96ff-b749775e5ae8",
   "metadata": {},
   "outputs": [],
   "source": []
  },
  {
   "cell_type": "code",
   "execution_count": null,
   "id": "db264637-4b5f-412e-a366-23cc99e8bd19",
   "metadata": {},
   "outputs": [],
   "source": []
  },
  {
   "cell_type": "code",
   "execution_count": null,
   "id": "4c3c4d43-e8e3-4543-b39d-7727e1909f62",
   "metadata": {},
   "outputs": [],
   "source": []
  },
  {
   "cell_type": "code",
   "execution_count": null,
   "id": "69ae23d2-a0af-4261-a696-56be7763aa4c",
   "metadata": {},
   "outputs": [],
   "source": []
  },
  {
   "cell_type": "code",
   "execution_count": null,
   "id": "19d8deb5-47df-4c47-92cc-696a95aeefb2",
   "metadata": {},
   "outputs": [],
   "source": []
  },
  {
   "cell_type": "code",
   "execution_count": null,
   "id": "1e7232da-8705-49c9-9a58-edfd3d62a9d3",
   "metadata": {},
   "outputs": [],
   "source": []
  },
  {
   "cell_type": "code",
   "execution_count": null,
   "id": "009f7bb8-9923-445a-9ad8-a08fd50c32b7",
   "metadata": {},
   "outputs": [],
   "source": []
  },
  {
   "cell_type": "code",
   "execution_count": null,
   "id": "6d67da47-6681-42c7-a8c8-07f94a5f5852",
   "metadata": {},
   "outputs": [],
   "source": []
  },
  {
   "cell_type": "code",
   "execution_count": null,
   "id": "4dd76929-a9c2-49f1-9bea-8cb04585a9bc",
   "metadata": {},
   "outputs": [],
   "source": []
  },
  {
   "cell_type": "code",
   "execution_count": null,
   "id": "cf6b3e18-1397-4d79-8e2d-792f611a8bd4",
   "metadata": {},
   "outputs": [],
   "source": []
  },
  {
   "cell_type": "code",
   "execution_count": null,
   "id": "d59d7de3-7bf3-4605-9d73-f991b6bdbb49",
   "metadata": {},
   "outputs": [],
   "source": []
  },
  {
   "cell_type": "code",
   "execution_count": null,
   "id": "5c6eb8d4-5e9e-4b1c-8db0-5c24e222eff8",
   "metadata": {},
   "outputs": [],
   "source": []
  },
  {
   "cell_type": "code",
   "execution_count": null,
   "id": "8fb5a80d-9ab3-4425-aacd-b3f3f7e15007",
   "metadata": {},
   "outputs": [],
   "source": []
  },
  {
   "cell_type": "code",
   "execution_count": null,
   "id": "b26dcf27-9036-4a8a-a818-6339402eb041",
   "metadata": {},
   "outputs": [],
   "source": []
  },
  {
   "cell_type": "code",
   "execution_count": null,
   "id": "ee13e8bd-0d38-4c64-b804-19c1b2b49fca",
   "metadata": {},
   "outputs": [],
   "source": []
  },
  {
   "cell_type": "code",
   "execution_count": null,
   "id": "8ccf4495-02b4-4e2e-afa7-bcbb8dc0136d",
   "metadata": {},
   "outputs": [],
   "source": []
  },
  {
   "cell_type": "code",
   "execution_count": null,
   "id": "ce92e313-ca18-40d0-aefc-4db8e122ff5f",
   "metadata": {},
   "outputs": [],
   "source": []
  },
  {
   "cell_type": "code",
   "execution_count": null,
   "id": "65e476d9-7378-4485-84d4-8815887ae3a3",
   "metadata": {},
   "outputs": [],
   "source": []
  },
  {
   "cell_type": "code",
   "execution_count": null,
   "id": "d3c4e0b4-6d5f-43dd-9135-896fb8f6a141",
   "metadata": {},
   "outputs": [],
   "source": []
  },
  {
   "cell_type": "code",
   "execution_count": null,
   "id": "efa4f3d4-f376-4e94-bff9-657a40e5ebfa",
   "metadata": {},
   "outputs": [],
   "source": []
  },
  {
   "cell_type": "code",
   "execution_count": null,
   "id": "79365fbc-993c-4805-b8e0-21630b199980",
   "metadata": {},
   "outputs": [],
   "source": []
  },
  {
   "cell_type": "code",
   "execution_count": null,
   "id": "2ee3a2ac-aed9-4b2b-ac36-ffe187832e3a",
   "metadata": {},
   "outputs": [],
   "source": []
  },
  {
   "cell_type": "code",
   "execution_count": null,
   "id": "8f247ac7-3745-441f-80b1-d0dec6659294",
   "metadata": {},
   "outputs": [],
   "source": []
  },
  {
   "cell_type": "code",
   "execution_count": null,
   "id": "a1b32327-1a1b-4eed-9801-00b8ee32ebb6",
   "metadata": {},
   "outputs": [],
   "source": []
  },
  {
   "cell_type": "code",
   "execution_count": null,
   "id": "5172848b-5127-46d8-982d-a7b2e62ca744",
   "metadata": {},
   "outputs": [],
   "source": []
  },
  {
   "cell_type": "code",
   "execution_count": null,
   "id": "7850777a-23f0-4dd8-8ac5-d746580a51cc",
   "metadata": {},
   "outputs": [],
   "source": []
  },
  {
   "cell_type": "code",
   "execution_count": null,
   "id": "bf43431f-026e-4d2c-82b6-595feeafe763",
   "metadata": {},
   "outputs": [],
   "source": []
  },
  {
   "cell_type": "code",
   "execution_count": null,
   "id": "3b8da711-1958-4f41-9492-57a346624373",
   "metadata": {},
   "outputs": [],
   "source": []
  },
  {
   "cell_type": "code",
   "execution_count": null,
   "id": "c8f89d78-4954-4dc9-ac1e-bd39ff936add",
   "metadata": {},
   "outputs": [],
   "source": []
  },
  {
   "cell_type": "code",
   "execution_count": null,
   "id": "2b41505e-c3fa-423f-844b-292f447c6810",
   "metadata": {},
   "outputs": [],
   "source": []
  },
  {
   "cell_type": "code",
   "execution_count": null,
   "id": "35928eac-e25e-4e1b-9b5a-9263f961ee11",
   "metadata": {},
   "outputs": [],
   "source": []
  },
  {
   "cell_type": "code",
   "execution_count": null,
   "id": "89e41d0d-9d50-496a-bd08-6a11717ffa01",
   "metadata": {},
   "outputs": [],
   "source": []
  },
  {
   "cell_type": "code",
   "execution_count": null,
   "id": "03abd37c-a020-46ac-9869-9f3e95e12d23",
   "metadata": {},
   "outputs": [],
   "source": []
  },
  {
   "cell_type": "code",
   "execution_count": null,
   "id": "c4a1db19-c20e-4a2e-a431-153f302a82e2",
   "metadata": {},
   "outputs": [],
   "source": []
  },
  {
   "cell_type": "code",
   "execution_count": null,
   "id": "8545ecb1-039a-4491-8609-07e0350adc98",
   "metadata": {},
   "outputs": [],
   "source": []
  },
  {
   "cell_type": "code",
   "execution_count": null,
   "id": "3abf1a73-2e64-4c4e-b763-5df777e58546",
   "metadata": {},
   "outputs": [],
   "source": []
  },
  {
   "cell_type": "code",
   "execution_count": null,
   "id": "965b702e-017b-4eee-9702-8c02c8ead2ea",
   "metadata": {},
   "outputs": [],
   "source": []
  },
  {
   "cell_type": "code",
   "execution_count": null,
   "id": "b23777e1-0d5e-4953-b608-8c17e1d9cf63",
   "metadata": {},
   "outputs": [],
   "source": []
  },
  {
   "cell_type": "code",
   "execution_count": null,
   "id": "8d77aa18-217a-4368-8453-835ab0e43131",
   "metadata": {},
   "outputs": [],
   "source": []
  },
  {
   "cell_type": "code",
   "execution_count": null,
   "id": "c9789d0f-1e8c-45dc-b513-6839668777c4",
   "metadata": {},
   "outputs": [],
   "source": []
  },
  {
   "cell_type": "code",
   "execution_count": null,
   "id": "29113222-2d0d-47ce-a111-073f623025c1",
   "metadata": {},
   "outputs": [],
   "source": []
  },
  {
   "cell_type": "code",
   "execution_count": null,
   "id": "c3b2132b-423e-4f2d-8b7d-237de51d3327",
   "metadata": {},
   "outputs": [],
   "source": []
  },
  {
   "cell_type": "code",
   "execution_count": null,
   "id": "0252ac87-d4ff-42d7-b8c5-2d81ee96e198",
   "metadata": {},
   "outputs": [],
   "source": []
  },
  {
   "cell_type": "code",
   "execution_count": null,
   "id": "5c64d1df-f4f4-474c-884e-684abbf0ecde",
   "metadata": {},
   "outputs": [],
   "source": []
  },
  {
   "cell_type": "code",
   "execution_count": null,
   "id": "936f51a2-135f-4522-accf-f13dc4c8fec5",
   "metadata": {},
   "outputs": [],
   "source": []
  },
  {
   "cell_type": "code",
   "execution_count": null,
   "id": "8e7675cf-9e7c-476e-b17c-f5a783357bca",
   "metadata": {},
   "outputs": [],
   "source": []
  },
  {
   "cell_type": "code",
   "execution_count": null,
   "id": "5bc3e50c-3d7a-4bc3-8891-225a19c37fe7",
   "metadata": {},
   "outputs": [],
   "source": []
  },
  {
   "cell_type": "code",
   "execution_count": null,
   "id": "2c33e004-fa38-4bbf-9c48-8a623971bfa7",
   "metadata": {},
   "outputs": [],
   "source": []
  },
  {
   "cell_type": "code",
   "execution_count": null,
   "id": "0e0fe875-78a9-4b81-9dd2-b535a352d476",
   "metadata": {},
   "outputs": [],
   "source": []
  },
  {
   "cell_type": "code",
   "execution_count": null,
   "id": "b850bd1e-5efb-4567-840b-010ed4f9b7f9",
   "metadata": {},
   "outputs": [],
   "source": []
  },
  {
   "cell_type": "code",
   "execution_count": null,
   "id": "b33a9981-60c6-45f0-918f-6d48c877aaa4",
   "metadata": {},
   "outputs": [],
   "source": []
  },
  {
   "cell_type": "code",
   "execution_count": null,
   "id": "e7f7c2c9-f8be-4a2b-afb3-dfb83837ab40",
   "metadata": {},
   "outputs": [],
   "source": []
  },
  {
   "cell_type": "code",
   "execution_count": null,
   "id": "501480d4-d0cb-479a-91cd-8e80ab10f2b2",
   "metadata": {},
   "outputs": [],
   "source": []
  },
  {
   "cell_type": "code",
   "execution_count": null,
   "id": "e2fb9e02-b8e3-47be-8ab2-3e8145519468",
   "metadata": {},
   "outputs": [],
   "source": []
  },
  {
   "cell_type": "code",
   "execution_count": null,
   "id": "e9bc9559-4e2f-4378-9ab6-24cd4091a5d4",
   "metadata": {},
   "outputs": [],
   "source": []
  },
  {
   "cell_type": "code",
   "execution_count": null,
   "id": "6889fddb-8e86-4a29-ae73-48d9efd59a23",
   "metadata": {},
   "outputs": [],
   "source": []
  },
  {
   "cell_type": "code",
   "execution_count": null,
   "id": "f2c7901c-2746-4574-a423-497a585b7a0b",
   "metadata": {},
   "outputs": [],
   "source": []
  },
  {
   "cell_type": "code",
   "execution_count": null,
   "id": "6192c458-7fe1-4ecb-95cf-0c7668005042",
   "metadata": {},
   "outputs": [],
   "source": []
  },
  {
   "cell_type": "code",
   "execution_count": null,
   "id": "dd504334-7e14-4f90-98f0-90ab220778a8",
   "metadata": {},
   "outputs": [],
   "source": []
  },
  {
   "cell_type": "code",
   "execution_count": null,
   "id": "031a2af1-4c6c-43d9-bffb-cf75ea54bb3c",
   "metadata": {},
   "outputs": [],
   "source": []
  },
  {
   "cell_type": "code",
   "execution_count": null,
   "id": "0bdaeae3-dc5f-4d63-8200-15e76e901733",
   "metadata": {},
   "outputs": [],
   "source": []
  },
  {
   "cell_type": "code",
   "execution_count": null,
   "id": "0c8e7918-86d4-416e-a659-a2df2c7342dc",
   "metadata": {},
   "outputs": [],
   "source": []
  },
  {
   "cell_type": "code",
   "execution_count": null,
   "id": "5c9b785f-0309-41bb-8e0b-511bc49409eb",
   "metadata": {},
   "outputs": [],
   "source": []
  },
  {
   "cell_type": "code",
   "execution_count": null,
   "id": "41a40c64-adde-479f-a697-c7eb3d117270",
   "metadata": {},
   "outputs": [],
   "source": []
  },
  {
   "cell_type": "code",
   "execution_count": null,
   "id": "234a058f-3107-4e91-ab06-e9c44df61ecc",
   "metadata": {},
   "outputs": [],
   "source": []
  },
  {
   "cell_type": "code",
   "execution_count": null,
   "id": "edba0009-6302-4097-a9f3-aa837afebc38",
   "metadata": {},
   "outputs": [],
   "source": []
  },
  {
   "cell_type": "code",
   "execution_count": null,
   "id": "bbc33843-67fc-4870-a689-110867b3fc96",
   "metadata": {},
   "outputs": [],
   "source": []
  },
  {
   "cell_type": "code",
   "execution_count": null,
   "id": "57bee2c0-d052-45f3-8da0-4cdc5aedfb72",
   "metadata": {},
   "outputs": [],
   "source": []
  },
  {
   "cell_type": "code",
   "execution_count": null,
   "id": "dac4ad3d-a30b-4126-8336-ea91ed2b183a",
   "metadata": {},
   "outputs": [],
   "source": []
  },
  {
   "cell_type": "code",
   "execution_count": null,
   "id": "4fbd6687-59e7-4122-8a51-9400382226d8",
   "metadata": {},
   "outputs": [],
   "source": []
  },
  {
   "cell_type": "code",
   "execution_count": null,
   "id": "6eb40438-0f90-418c-b9c3-04cc42a32f3d",
   "metadata": {},
   "outputs": [],
   "source": []
  },
  {
   "cell_type": "code",
   "execution_count": null,
   "id": "7611407c-e069-442a-a055-b9e633bbe2b4",
   "metadata": {},
   "outputs": [],
   "source": []
  },
  {
   "cell_type": "code",
   "execution_count": null,
   "id": "9f9c97e6-9727-4991-8929-fb27ec9e2f0a",
   "metadata": {},
   "outputs": [],
   "source": []
  },
  {
   "cell_type": "code",
   "execution_count": null,
   "id": "07d41d65-825c-46d6-9e0a-5a94498c3bd9",
   "metadata": {},
   "outputs": [],
   "source": []
  },
  {
   "cell_type": "code",
   "execution_count": null,
   "id": "19d03816-4492-46fe-a339-7acfef99e9fa",
   "metadata": {},
   "outputs": [],
   "source": []
  },
  {
   "cell_type": "code",
   "execution_count": null,
   "id": "0b1e60a5-7217-4e93-8f4d-0f5ab65aedee",
   "metadata": {},
   "outputs": [],
   "source": []
  },
  {
   "cell_type": "code",
   "execution_count": null,
   "id": "cafa85ca-3148-4edd-bf58-718d8599b2f4",
   "metadata": {},
   "outputs": [],
   "source": []
  },
  {
   "cell_type": "code",
   "execution_count": null,
   "id": "ba9772cc-6231-4825-bfe3-1addd1d0bb88",
   "metadata": {},
   "outputs": [],
   "source": []
  },
  {
   "cell_type": "code",
   "execution_count": null,
   "id": "536682e9-4771-4c9f-9727-9425c24c7775",
   "metadata": {},
   "outputs": [],
   "source": []
  },
  {
   "cell_type": "code",
   "execution_count": null,
   "id": "290778a8-d82b-4b3c-a12a-4e014f78dee2",
   "metadata": {},
   "outputs": [],
   "source": []
  },
  {
   "cell_type": "code",
   "execution_count": null,
   "id": "6e7dcdf4-1ae0-438d-af76-4d5a65d8338e",
   "metadata": {},
   "outputs": [],
   "source": []
  },
  {
   "cell_type": "code",
   "execution_count": null,
   "id": "87b5766f-0cfc-4a43-b73b-442c1b954890",
   "metadata": {},
   "outputs": [],
   "source": []
  },
  {
   "cell_type": "code",
   "execution_count": null,
   "id": "c0061cfc-d4ab-4608-87ce-6663b0d6b821",
   "metadata": {},
   "outputs": [],
   "source": []
  },
  {
   "cell_type": "code",
   "execution_count": null,
   "id": "456b3b2d-730c-4d79-bcbe-16f0748dc464",
   "metadata": {},
   "outputs": [],
   "source": []
  },
  {
   "cell_type": "code",
   "execution_count": null,
   "id": "ed2c1987-465f-4d75-943b-b48defa8ae31",
   "metadata": {},
   "outputs": [],
   "source": []
  },
  {
   "cell_type": "code",
   "execution_count": null,
   "id": "c4f1fc74-09c9-4739-9a7c-c7e494b4519f",
   "metadata": {},
   "outputs": [],
   "source": []
  },
  {
   "cell_type": "code",
   "execution_count": null,
   "id": "85873113-c2cc-48ae-a622-2d50e2dbc6f2",
   "metadata": {},
   "outputs": [],
   "source": []
  },
  {
   "cell_type": "code",
   "execution_count": null,
   "id": "3fe21033-a997-41b7-bf65-bec81d32706d",
   "metadata": {},
   "outputs": [],
   "source": []
  },
  {
   "cell_type": "code",
   "execution_count": null,
   "id": "675bd1b4-758c-4c53-bc5b-c19d2efecfa8",
   "metadata": {},
   "outputs": [],
   "source": []
  },
  {
   "cell_type": "code",
   "execution_count": null,
   "id": "b6042a95-abaa-4d8e-b504-14ffd50f029b",
   "metadata": {},
   "outputs": [],
   "source": []
  },
  {
   "cell_type": "code",
   "execution_count": null,
   "id": "9ffa9e02-5ef6-47b4-a726-be42139c2928",
   "metadata": {},
   "outputs": [],
   "source": []
  },
  {
   "cell_type": "code",
   "execution_count": null,
   "id": "22a4f7b6-f938-4c00-b939-f28419367e4c",
   "metadata": {},
   "outputs": [],
   "source": []
  },
  {
   "cell_type": "code",
   "execution_count": null,
   "id": "5adc671d-c5d5-42da-9e8b-d85a800397d1",
   "metadata": {},
   "outputs": [],
   "source": []
  },
  {
   "cell_type": "code",
   "execution_count": null,
   "id": "7acb3072-a90b-43c5-ae17-9ad0dc05d86e",
   "metadata": {},
   "outputs": [],
   "source": []
  },
  {
   "cell_type": "code",
   "execution_count": null,
   "id": "da6ab580-a4da-4da4-bd9b-168286289d6a",
   "metadata": {},
   "outputs": [],
   "source": []
  },
  {
   "cell_type": "code",
   "execution_count": null,
   "id": "643bb95b-c7fc-4bfc-8ae9-68ab9dc1843e",
   "metadata": {},
   "outputs": [],
   "source": []
  },
  {
   "cell_type": "code",
   "execution_count": null,
   "id": "083726f3-6ca8-4c81-ace2-a77b040a913f",
   "metadata": {},
   "outputs": [],
   "source": []
  },
  {
   "cell_type": "code",
   "execution_count": null,
   "id": "f31092a5-8b48-4298-aa6f-e3099bf43f61",
   "metadata": {},
   "outputs": [],
   "source": []
  },
  {
   "cell_type": "code",
   "execution_count": null,
   "id": "090f994a-468b-4cbe-8cba-6b57fcf350be",
   "metadata": {},
   "outputs": [],
   "source": []
  },
  {
   "cell_type": "code",
   "execution_count": null,
   "id": "b3f1a773-34e8-4819-b43d-888aa7a17e62",
   "metadata": {},
   "outputs": [],
   "source": []
  },
  {
   "cell_type": "code",
   "execution_count": null,
   "id": "bda9de2c-4ea8-47e9-9dac-cd524a03997c",
   "metadata": {},
   "outputs": [],
   "source": []
  },
  {
   "cell_type": "code",
   "execution_count": null,
   "id": "e7949504-5652-4f3d-82f3-472b72d99979",
   "metadata": {},
   "outputs": [],
   "source": []
  },
  {
   "cell_type": "code",
   "execution_count": null,
   "id": "ff887ea0-b6bf-4459-ac25-9fd0477fde9e",
   "metadata": {},
   "outputs": [],
   "source": []
  },
  {
   "cell_type": "code",
   "execution_count": null,
   "id": "06eee52e-ad81-4927-8fd2-88a7e328dc04",
   "metadata": {},
   "outputs": [],
   "source": []
  },
  {
   "cell_type": "code",
   "execution_count": null,
   "id": "dba336a0-7585-4e3c-b8a0-5d7f6047d8e9",
   "metadata": {},
   "outputs": [],
   "source": []
  },
  {
   "cell_type": "code",
   "execution_count": null,
   "id": "412acb61-298d-4c56-a5a5-a9ca548138ee",
   "metadata": {},
   "outputs": [],
   "source": []
  },
  {
   "cell_type": "code",
   "execution_count": null,
   "id": "7d6f945d-435c-46a4-a35f-cde6296792db",
   "metadata": {},
   "outputs": [],
   "source": []
  },
  {
   "cell_type": "code",
   "execution_count": null,
   "id": "a12065bb-a947-44b9-9fd2-9e8cab5ec6ad",
   "metadata": {},
   "outputs": [],
   "source": []
  },
  {
   "cell_type": "code",
   "execution_count": null,
   "id": "011dc7b8-eda0-4ad2-9407-e8a9770de489",
   "metadata": {},
   "outputs": [],
   "source": []
  },
  {
   "cell_type": "code",
   "execution_count": null,
   "id": "10bfb44d-3237-4450-b35c-36c4fff3be18",
   "metadata": {},
   "outputs": [],
   "source": []
  },
  {
   "cell_type": "code",
   "execution_count": null,
   "id": "38d0c51a-7fea-4c7c-ad65-512b62ec1caf",
   "metadata": {},
   "outputs": [],
   "source": []
  },
  {
   "cell_type": "code",
   "execution_count": null,
   "id": "ec13c300-b986-4e34-aae7-d730d330cc23",
   "metadata": {},
   "outputs": [],
   "source": []
  },
  {
   "cell_type": "code",
   "execution_count": null,
   "id": "cbe52790-ec47-44f3-bb76-a65a91c75811",
   "metadata": {},
   "outputs": [],
   "source": []
  },
  {
   "cell_type": "code",
   "execution_count": null,
   "id": "acb7ceb4-ec0c-4e8c-ae3f-1a84fec270b4",
   "metadata": {},
   "outputs": [],
   "source": []
  },
  {
   "cell_type": "code",
   "execution_count": null,
   "id": "9c5d9331-b0fb-419b-9c3c-269625146363",
   "metadata": {},
   "outputs": [],
   "source": []
  },
  {
   "cell_type": "code",
   "execution_count": null,
   "id": "14c68e54-cc86-4bc5-bbc6-bd9aa3e89ad6",
   "metadata": {},
   "outputs": [],
   "source": []
  },
  {
   "cell_type": "code",
   "execution_count": null,
   "id": "aa85b86d-4616-47cd-bbf8-d1cce4158a1e",
   "metadata": {},
   "outputs": [],
   "source": []
  },
  {
   "cell_type": "code",
   "execution_count": null,
   "id": "e5034ce1-7824-42d3-ab47-328a998f0822",
   "metadata": {},
   "outputs": [],
   "source": []
  },
  {
   "cell_type": "code",
   "execution_count": null,
   "id": "f484169c-0c95-4604-9b0b-b8381173b3bb",
   "metadata": {},
   "outputs": [],
   "source": []
  },
  {
   "cell_type": "code",
   "execution_count": null,
   "id": "abff638a-6fca-4f18-a8ba-37fa28f4cefe",
   "metadata": {},
   "outputs": [],
   "source": []
  },
  {
   "cell_type": "code",
   "execution_count": null,
   "id": "9f8c4a0a-8315-4f00-a2ff-80bf74c353ff",
   "metadata": {},
   "outputs": [],
   "source": []
  },
  {
   "cell_type": "code",
   "execution_count": null,
   "id": "a23957e6-f186-4d11-8bbc-337b27929382",
   "metadata": {},
   "outputs": [],
   "source": []
  },
  {
   "cell_type": "code",
   "execution_count": null,
   "id": "5a25fc5b-4576-40b3-95dc-8580291ae5ef",
   "metadata": {},
   "outputs": [],
   "source": []
  },
  {
   "cell_type": "code",
   "execution_count": null,
   "id": "000a6c14-5874-4133-8c69-3e218bf157b0",
   "metadata": {},
   "outputs": [],
   "source": []
  },
  {
   "cell_type": "code",
   "execution_count": null,
   "id": "d623bd7f-3428-4a1e-88a7-6bd03cf0c460",
   "metadata": {},
   "outputs": [],
   "source": []
  },
  {
   "cell_type": "code",
   "execution_count": null,
   "id": "4def38d1-3d97-44e5-9817-4d3bf761398b",
   "metadata": {},
   "outputs": [],
   "source": []
  },
  {
   "cell_type": "code",
   "execution_count": null,
   "id": "2782f04d-b3c0-4bb3-8cd8-5f5d22e3b610",
   "metadata": {},
   "outputs": [],
   "source": []
  },
  {
   "cell_type": "code",
   "execution_count": null,
   "id": "e774ee46-6308-4284-ad15-a2d583ed389f",
   "metadata": {},
   "outputs": [],
   "source": []
  },
  {
   "cell_type": "code",
   "execution_count": null,
   "id": "71931aa1-af5b-4225-a142-aff028044c57",
   "metadata": {},
   "outputs": [],
   "source": []
  },
  {
   "cell_type": "code",
   "execution_count": null,
   "id": "d7db3e9c-e05d-4d5c-b763-2b7d75fbafad",
   "metadata": {},
   "outputs": [],
   "source": []
  },
  {
   "cell_type": "code",
   "execution_count": null,
   "id": "873f9f10-0cb3-4c78-8bb6-11558aa36cf2",
   "metadata": {},
   "outputs": [],
   "source": []
  },
  {
   "cell_type": "code",
   "execution_count": null,
   "id": "39fc03e7-cd7a-43b7-80e0-6024468b4517",
   "metadata": {},
   "outputs": [],
   "source": []
  },
  {
   "cell_type": "code",
   "execution_count": null,
   "id": "432527ab-d5b4-44b7-a9b2-2e4a6a70a947",
   "metadata": {},
   "outputs": [],
   "source": []
  },
  {
   "cell_type": "code",
   "execution_count": null,
   "id": "6b822e5d-a529-4aa7-bb66-b6932b73f593",
   "metadata": {},
   "outputs": [],
   "source": []
  },
  {
   "cell_type": "code",
   "execution_count": null,
   "id": "41595c75-5665-4aca-8abd-ebdc0bfbf38e",
   "metadata": {},
   "outputs": [],
   "source": []
  },
  {
   "cell_type": "code",
   "execution_count": null,
   "id": "f4b2f6d3-8e67-42fd-a97d-aaf2d010476f",
   "metadata": {},
   "outputs": [],
   "source": []
  },
  {
   "cell_type": "code",
   "execution_count": null,
   "id": "15ead16d-bde0-403f-aa71-d844b976112b",
   "metadata": {},
   "outputs": [],
   "source": []
  },
  {
   "cell_type": "code",
   "execution_count": null,
   "id": "2b5f7e9e-32ef-41f9-bd81-4d6b1b3d3494",
   "metadata": {},
   "outputs": [],
   "source": []
  },
  {
   "cell_type": "code",
   "execution_count": null,
   "id": "fca4eae0-95d7-46a5-92f9-80895cd69322",
   "metadata": {},
   "outputs": [],
   "source": []
  },
  {
   "cell_type": "code",
   "execution_count": null,
   "id": "5b223205-ea7d-4f05-90dd-d44ec98cc2fa",
   "metadata": {},
   "outputs": [],
   "source": []
  },
  {
   "cell_type": "code",
   "execution_count": null,
   "id": "fea5f1e7-85f7-46e4-a760-897390439109",
   "metadata": {},
   "outputs": [],
   "source": []
  },
  {
   "cell_type": "code",
   "execution_count": null,
   "id": "50bb072f-53cf-4a9d-b87b-ed5aea5e6076",
   "metadata": {},
   "outputs": [],
   "source": []
  },
  {
   "cell_type": "code",
   "execution_count": null,
   "id": "6adad0a4-55ac-45a1-ad93-30163e6f5291",
   "metadata": {},
   "outputs": [],
   "source": []
  },
  {
   "cell_type": "code",
   "execution_count": null,
   "id": "62302e26-3536-4af7-9e1b-3b8330bb234d",
   "metadata": {},
   "outputs": [],
   "source": []
  },
  {
   "cell_type": "code",
   "execution_count": null,
   "id": "ea1cce07-6835-466e-8d07-ad0c44536ad5",
   "metadata": {},
   "outputs": [],
   "source": []
  },
  {
   "cell_type": "code",
   "execution_count": null,
   "id": "7e37c2f0-7737-4173-a048-6c588589129f",
   "metadata": {},
   "outputs": [],
   "source": []
  },
  {
   "cell_type": "code",
   "execution_count": null,
   "id": "3a62482f-d720-49d2-89d8-dca2abcb870e",
   "metadata": {},
   "outputs": [],
   "source": []
  },
  {
   "cell_type": "code",
   "execution_count": null,
   "id": "da31dccc-ab2b-4945-9422-c3cfa9a59724",
   "metadata": {},
   "outputs": [],
   "source": []
  },
  {
   "cell_type": "code",
   "execution_count": null,
   "id": "b8ef7492-0aea-43e7-b467-76db99773fdc",
   "metadata": {},
   "outputs": [],
   "source": []
  },
  {
   "cell_type": "code",
   "execution_count": null,
   "id": "a42558df-e600-4535-a66f-e29bca679227",
   "metadata": {},
   "outputs": [],
   "source": []
  },
  {
   "cell_type": "code",
   "execution_count": null,
   "id": "951bc589-142b-46b8-b958-9a94fcb90478",
   "metadata": {},
   "outputs": [],
   "source": []
  },
  {
   "cell_type": "code",
   "execution_count": null,
   "id": "ae5de253-5051-44d2-9084-803e85c4124c",
   "metadata": {},
   "outputs": [],
   "source": []
  },
  {
   "cell_type": "code",
   "execution_count": null,
   "id": "d61f1d6c-1fd7-4964-a6d1-54ebd8222146",
   "metadata": {},
   "outputs": [],
   "source": []
  },
  {
   "cell_type": "code",
   "execution_count": null,
   "id": "a8b3c8a5-bdd4-47bf-ac6a-9ad85d0dfaa7",
   "metadata": {},
   "outputs": [],
   "source": []
  },
  {
   "cell_type": "code",
   "execution_count": null,
   "id": "bc59de04-7df7-4952-a0d1-ef36c90e1fb7",
   "metadata": {},
   "outputs": [],
   "source": []
  },
  {
   "cell_type": "code",
   "execution_count": null,
   "id": "4e60a815-a930-4d07-b588-bf44f60bf58e",
   "metadata": {},
   "outputs": [],
   "source": []
  },
  {
   "cell_type": "code",
   "execution_count": null,
   "id": "691042a0-245b-4368-8c81-4cab3982b918",
   "metadata": {},
   "outputs": [],
   "source": []
  },
  {
   "cell_type": "code",
   "execution_count": null,
   "id": "56e6f6ea-a229-4f5f-a2a4-fae34b72a901",
   "metadata": {},
   "outputs": [],
   "source": []
  },
  {
   "cell_type": "code",
   "execution_count": null,
   "id": "c4dfe977-9daf-4a1d-b366-a66be99dc006",
   "metadata": {},
   "outputs": [],
   "source": []
  },
  {
   "cell_type": "code",
   "execution_count": null,
   "id": "23d52df4-f685-44c8-a47f-60de8ebf7d98",
   "metadata": {},
   "outputs": [],
   "source": []
  },
  {
   "cell_type": "code",
   "execution_count": null,
   "id": "5ce6a19e-6666-40fb-8df2-a54d4da332dc",
   "metadata": {},
   "outputs": [],
   "source": []
  },
  {
   "cell_type": "code",
   "execution_count": null,
   "id": "c8a331bb-4e04-4575-8f47-b7d1622acef2",
   "metadata": {},
   "outputs": [],
   "source": []
  },
  {
   "cell_type": "code",
   "execution_count": null,
   "id": "d6380404-d006-4f2a-b661-6560f70a8b37",
   "metadata": {},
   "outputs": [],
   "source": []
  },
  {
   "cell_type": "code",
   "execution_count": null,
   "id": "428b27bf-eef7-4167-97c2-1ff11d7f4323",
   "metadata": {},
   "outputs": [],
   "source": []
  },
  {
   "cell_type": "code",
   "execution_count": null,
   "id": "c0ec1ec1-802e-45a4-8414-06290dbd6619",
   "metadata": {},
   "outputs": [],
   "source": []
  },
  {
   "cell_type": "code",
   "execution_count": null,
   "id": "684797c3-16c8-45ee-af2d-ef817205b38b",
   "metadata": {},
   "outputs": [],
   "source": []
  },
  {
   "cell_type": "code",
   "execution_count": null,
   "id": "6774057d-0594-4479-a73d-1f9034ae6a80",
   "metadata": {},
   "outputs": [],
   "source": []
  },
  {
   "cell_type": "code",
   "execution_count": 91,
   "id": "43974aae-921e-4f86-8eb2-59195d6aced9",
   "metadata": {},
   "outputs": [
    {
     "name": "stdout",
     "output_type": "stream",
     "text": [
      "Step 1: ['a.com', 'a.com', 'b.com', 'd.com']\n",
      "Step 2: ['a.com', 'b.com', 'c.com']\n",
      "Step 3: {'a.com': 2, 'b.com': 1, 'c.com': 0}\n",
      "Step 4: {'www.com': 0}\n"
     ]
    },
    {
     "data": {
      "text/plain": [
       "1.0"
      ]
     },
     "execution_count": 91,
     "metadata": {},
     "output_type": "execute_result"
    }
   ],
   "source": []
  },
  {
   "cell_type": "code",
   "execution_count": null,
   "id": "eefd0926-68e5-45a8-9a01-c916597da46f",
   "metadata": {},
   "outputs": [],
   "source": []
  },
  {
   "cell_type": "code",
   "execution_count": null,
   "id": "fa4b3e33-9b12-4f73-8328-b8c2cb399bc5",
   "metadata": {},
   "outputs": [],
   "source": []
  },
  {
   "cell_type": "code",
   "execution_count": null,
   "id": "e05f78c6-0f62-4fc4-b613-75e61cbe0e77",
   "metadata": {},
   "outputs": [],
   "source": []
  },
  {
   "cell_type": "code",
   "execution_count": null,
   "id": "c96c80f7-ea6b-4f8e-a871-d13b9813a093",
   "metadata": {},
   "outputs": [],
   "source": []
  },
  {
   "cell_type": "code",
   "execution_count": null,
   "id": "db640fb9-9d74-4666-8de7-c6534b5883de",
   "metadata": {},
   "outputs": [],
   "source": []
  },
  {
   "cell_type": "code",
   "execution_count": null,
   "id": "7c21ed26-bb4c-40f6-8785-6919882e1ccf",
   "metadata": {},
   "outputs": [],
   "source": []
  },
  {
   "cell_type": "code",
   "execution_count": null,
   "id": "9a3666e5-5a8c-43d0-9bc9-ed0ba5583442",
   "metadata": {},
   "outputs": [],
   "source": []
  },
  {
   "cell_type": "code",
   "execution_count": null,
   "id": "347b9fa7-3fd3-4bb8-826d-697e6b205b6d",
   "metadata": {},
   "outputs": [],
   "source": []
  },
  {
   "cell_type": "code",
   "execution_count": null,
   "id": "747ff9b7-5edf-468d-b0dd-69953c663ac7",
   "metadata": {},
   "outputs": [],
   "source": []
  },
  {
   "cell_type": "code",
   "execution_count": null,
   "id": "b2692c7b-e6a7-4e74-86d7-95bf359ce94d",
   "metadata": {},
   "outputs": [],
   "source": []
  },
  {
   "cell_type": "code",
   "execution_count": null,
   "id": "4ed4c7b4-2351-4cbf-b678-61cb20ebaaa6",
   "metadata": {},
   "outputs": [],
   "source": []
  },
  {
   "cell_type": "code",
   "execution_count": null,
   "id": "e92b9f88-2597-4580-b7bc-b7e7b71cbff2",
   "metadata": {},
   "outputs": [],
   "source": []
  },
  {
   "cell_type": "code",
   "execution_count": null,
   "id": "31ae1156-5bd0-4dc1-8597-cb2d6c7f04a1",
   "metadata": {},
   "outputs": [],
   "source": []
  },
  {
   "cell_type": "code",
   "execution_count": null,
   "id": "8f37c3e6-42a7-4ee3-9cd7-ecd4326343b0",
   "metadata": {},
   "outputs": [],
   "source": []
  },
  {
   "cell_type": "code",
   "execution_count": null,
   "id": "632fb3eb-5442-4e82-972a-177c6df4881a",
   "metadata": {},
   "outputs": [],
   "source": []
  },
  {
   "cell_type": "code",
   "execution_count": null,
   "id": "0d357856-bed0-4cb4-9894-210aeb51cd82",
   "metadata": {},
   "outputs": [],
   "source": []
  },
  {
   "cell_type": "code",
   "execution_count": null,
   "id": "1e74437e-c589-442f-ad42-07893c7e99f2",
   "metadata": {},
   "outputs": [],
   "source": []
  },
  {
   "cell_type": "code",
   "execution_count": null,
   "id": "54e2bc72-85dd-4303-9477-75b3b3c27c33",
   "metadata": {},
   "outputs": [],
   "source": []
  },
  {
   "cell_type": "code",
   "execution_count": null,
   "id": "d659a809-7394-43b6-9894-d77622b81910",
   "metadata": {},
   "outputs": [],
   "source": []
  },
  {
   "cell_type": "code",
   "execution_count": null,
   "id": "7412cbbb-8393-4663-89ce-4dd3ca9d7478",
   "metadata": {},
   "outputs": [],
   "source": []
  },
  {
   "cell_type": "code",
   "execution_count": null,
   "id": "9e08589f-24cc-4524-926d-e16367d9d49d",
   "metadata": {},
   "outputs": [],
   "source": []
  },
  {
   "cell_type": "code",
   "execution_count": null,
   "id": "beef3e1e-6387-41f9-9a80-e682ea0dd96d",
   "metadata": {},
   "outputs": [],
   "source": []
  },
  {
   "cell_type": "code",
   "execution_count": null,
   "id": "bd5a7247-4181-4823-8aff-3c3def383b13",
   "metadata": {},
   "outputs": [],
   "source": []
  },
  {
   "cell_type": "code",
   "execution_count": null,
   "id": "ddc19438-c305-483f-87dc-185f1a641544",
   "metadata": {},
   "outputs": [],
   "source": []
  },
  {
   "cell_type": "code",
   "execution_count": null,
   "id": "31658ef4-508e-4eae-b951-b048389852bd",
   "metadata": {},
   "outputs": [],
   "source": []
  },
  {
   "cell_type": "code",
   "execution_count": null,
   "id": "77cb6c78-36f2-4a01-9b83-a2a625ceb246",
   "metadata": {},
   "outputs": [],
   "source": []
  },
  {
   "cell_type": "code",
   "execution_count": null,
   "id": "5f472d9e-ecb6-43a0-863c-31412707cd08",
   "metadata": {},
   "outputs": [],
   "source": []
  },
  {
   "cell_type": "code",
   "execution_count": null,
   "id": "468825dc-7706-4267-8c9f-d16abc1b7637",
   "metadata": {},
   "outputs": [],
   "source": []
  },
  {
   "cell_type": "code",
   "execution_count": null,
   "id": "827a2789-c266-4d3d-9bc4-2eae7fe42f70",
   "metadata": {},
   "outputs": [],
   "source": []
  },
  {
   "cell_type": "code",
   "execution_count": null,
   "id": "8a5e00f4-8932-495c-ab50-b0885196d1cd",
   "metadata": {},
   "outputs": [],
   "source": []
  },
  {
   "cell_type": "code",
   "execution_count": null,
   "id": "8b5b67f5-cfb4-43c3-ad8c-7eb150dadd3b",
   "metadata": {},
   "outputs": [],
   "source": []
  },
  {
   "cell_type": "code",
   "execution_count": null,
   "id": "b441edcc-32a8-4e89-831a-60321d859d0d",
   "metadata": {},
   "outputs": [],
   "source": []
  },
  {
   "cell_type": "code",
   "execution_count": null,
   "id": "f75afdc6-ca59-409a-bc13-63a990244900",
   "metadata": {},
   "outputs": [],
   "source": []
  },
  {
   "cell_type": "code",
   "execution_count": null,
   "id": "f03c02da-8922-4c74-8842-1a43e7cb30e0",
   "metadata": {},
   "outputs": [],
   "source": []
  },
  {
   "cell_type": "code",
   "execution_count": null,
   "id": "ad5d7e7f-b5b1-42d9-adf9-50f61752411b",
   "metadata": {},
   "outputs": [],
   "source": []
  },
  {
   "cell_type": "code",
   "execution_count": null,
   "id": "2c0e3f20-8345-4a3b-8b50-f5ff9411f1c1",
   "metadata": {},
   "outputs": [],
   "source": []
  },
  {
   "cell_type": "code",
   "execution_count": null,
   "id": "67476a1d-7bdd-40cc-b4af-d5df1a81228a",
   "metadata": {},
   "outputs": [],
   "source": []
  },
  {
   "cell_type": "code",
   "execution_count": null,
   "id": "14a96e70-5f97-476b-8af7-d4faea27ade1",
   "metadata": {},
   "outputs": [],
   "source": []
  },
  {
   "cell_type": "code",
   "execution_count": null,
   "id": "bcfc47b2-a122-4240-b5d6-105f7b005a5e",
   "metadata": {},
   "outputs": [],
   "source": []
  },
  {
   "cell_type": "code",
   "execution_count": null,
   "id": "f98920bb-0982-42d2-839f-29284ce54025",
   "metadata": {},
   "outputs": [],
   "source": []
  },
  {
   "cell_type": "code",
   "execution_count": null,
   "id": "f5f0149f-ca56-45a2-8cfd-fc580f59a27c",
   "metadata": {},
   "outputs": [],
   "source": []
  },
  {
   "cell_type": "code",
   "execution_count": null,
   "id": "5db88c65-efa4-498d-9c23-249292a0abf2",
   "metadata": {},
   "outputs": [],
   "source": []
  },
  {
   "cell_type": "code",
   "execution_count": null,
   "id": "59136e52-71d9-44e0-a9c8-1c50e458061a",
   "metadata": {},
   "outputs": [],
   "source": []
  },
  {
   "cell_type": "code",
   "execution_count": null,
   "id": "5a474b95-7d99-452f-9a67-d0cab6e2c67a",
   "metadata": {},
   "outputs": [],
   "source": []
  },
  {
   "cell_type": "code",
   "execution_count": null,
   "id": "e244a4f5-e468-41b7-ae82-441ef9eb709b",
   "metadata": {},
   "outputs": [],
   "source": []
  },
  {
   "cell_type": "code",
   "execution_count": null,
   "id": "a738bae3-7f91-485f-9353-3a61cdcd1301",
   "metadata": {},
   "outputs": [],
   "source": []
  },
  {
   "cell_type": "code",
   "execution_count": null,
   "id": "758a9770-cdf3-4536-b54b-f59c692ec3c3",
   "metadata": {},
   "outputs": [],
   "source": []
  },
  {
   "cell_type": "code",
   "execution_count": 105,
   "id": "8dc9ca67-cbb3-4adb-8797-dc5443f6ff78",
   "metadata": {},
   "outputs": [
    {
     "name": "stdout",
     "output_type": "stream",
     "text": [
      "{'a.com': 2, 'b.com': 1, 'c.com': 0}\n"
     ]
    }
   ],
   "source": []
  },
  {
   "cell_type": "code",
   "execution_count": null,
   "id": "79205ef2-c075-45f8-9fa5-ef856bc7776f",
   "metadata": {},
   "outputs": [],
   "source": []
  },
  {
   "cell_type": "code",
   "execution_count": null,
   "id": "3beebe67-0447-4c1f-9b37-2d0b04b3bbc4",
   "metadata": {},
   "outputs": [],
   "source": []
  },
  {
   "cell_type": "code",
   "execution_count": null,
   "id": "5e070427-fe6c-4e86-916b-63b8e1317334",
   "metadata": {},
   "outputs": [],
   "source": []
  },
  {
   "cell_type": "code",
   "execution_count": null,
   "id": "ff37ed37-5a93-4076-b0ff-5e84c4e9fb30",
   "metadata": {},
   "outputs": [],
   "source": []
  },
  {
   "cell_type": "code",
   "execution_count": null,
   "id": "f45be981-65dd-4f94-9f0b-073df7f0df06",
   "metadata": {},
   "outputs": [],
   "source": []
  },
  {
   "cell_type": "code",
   "execution_count": null,
   "id": "32ea3ad9-9bfb-4912-b3c3-5bf6ade48273",
   "metadata": {},
   "outputs": [],
   "source": []
  },
  {
   "cell_type": "code",
   "execution_count": null,
   "id": "90f3f130-2764-42f6-9888-551a994b1861",
   "metadata": {},
   "outputs": [],
   "source": []
  },
  {
   "cell_type": "code",
   "execution_count": null,
   "id": "6b561966-60e9-4e6a-b94b-2cf6ec486df8",
   "metadata": {},
   "outputs": [],
   "source": []
  },
  {
   "cell_type": "code",
   "execution_count": null,
   "id": "f547a738-77fa-40b1-be82-68d57ed57d6e",
   "metadata": {},
   "outputs": [],
   "source": []
  },
  {
   "cell_type": "code",
   "execution_count": null,
   "id": "e2f304bd-aa2d-48a2-882b-5ce8094b7a09",
   "metadata": {},
   "outputs": [],
   "source": []
  },
  {
   "cell_type": "code",
   "execution_count": null,
   "id": "fb89eabb-57f8-4a45-b037-eb0c45dc6d08",
   "metadata": {},
   "outputs": [],
   "source": []
  },
  {
   "cell_type": "code",
   "execution_count": null,
   "id": "9b3ab8f6-a42a-4ee0-8ba8-b314b1b8c895",
   "metadata": {},
   "outputs": [],
   "source": []
  },
  {
   "cell_type": "code",
   "execution_count": null,
   "id": "e45e0be8-0ec1-4440-b840-277e6e5b8e18",
   "metadata": {},
   "outputs": [],
   "source": []
  },
  {
   "cell_type": "code",
   "execution_count": null,
   "id": "4acd69ad-5a08-4c48-820b-7bbbfc2b646c",
   "metadata": {},
   "outputs": [],
   "source": []
  },
  {
   "cell_type": "code",
   "execution_count": null,
   "id": "105d592a-c114-474e-ac1d-6ecd78b91a55",
   "metadata": {},
   "outputs": [],
   "source": []
  },
  {
   "cell_type": "code",
   "execution_count": null,
   "id": "0d4737f0-5c40-4f72-805d-b3cf26980889",
   "metadata": {},
   "outputs": [],
   "source": []
  },
  {
   "cell_type": "code",
   "execution_count": null,
   "id": "8008e81c-7526-44fe-b426-a02f0f09cd7e",
   "metadata": {},
   "outputs": [],
   "source": []
  },
  {
   "cell_type": "code",
   "execution_count": null,
   "id": "6658fb15-25f7-4f52-8561-4ae35e6cf657",
   "metadata": {},
   "outputs": [],
   "source": []
  },
  {
   "cell_type": "code",
   "execution_count": null,
   "id": "89dde1c6-513a-4500-8667-4b0c39887494",
   "metadata": {},
   "outputs": [],
   "source": []
  },
  {
   "cell_type": "code",
   "execution_count": null,
   "id": "7a35a0cb-dd82-49dc-adae-2d0cb58443e3",
   "metadata": {},
   "outputs": [],
   "source": []
  }
 ],
 "metadata": {
  "kernelspec": {
   "display_name": "Python 3 (ipykernel)",
   "language": "python",
   "name": "python3"
  },
  "language_info": {
   "codemirror_mode": {
    "name": "ipython",
    "version": 3
   },
   "file_extension": ".py",
   "mimetype": "text/x-python",
   "name": "python",
   "nbconvert_exporter": "python",
   "pygments_lexer": "ipython3",
   "version": "3.12.1"
  }
 },
 "nbformat": 4,
 "nbformat_minor": 5
}
